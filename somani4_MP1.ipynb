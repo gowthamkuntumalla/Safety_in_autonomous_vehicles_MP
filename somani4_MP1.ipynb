{
 "cells": [
  {
   "cell_type": "markdown",
   "metadata": {},
   "source": [
    " # MP1 - ECE 498:  Data Science & Analytics\n",
    " \n",
    " \n",
    " # Group members (NetIDs): \n",
    "    \n",
    " ##   Akhilesh Somani (somani4)\n",
    " ##   Gowtham Kuntumalla (gowtham4)\n",
    " ##   Manan Mehta (mananm2)"
   ]
  },
  {
   "cell_type": "code",
   "execution_count": 1,
   "metadata": {},
   "outputs": [],
   "source": [
    "import pandas as pd \n",
    "import seaborn as sns\n",
    "import numpy as np  \n",
    "from datetime import datetime\n",
    "from scipy import stats as st\n",
    "import math\n",
    "\n",
    "# to handle file imports for different OS\n",
    "import os\n",
    "from pathlib import Path "
   ]
  },
  {
   "cell_type": "markdown",
   "metadata": {},
   "source": [
    "# ----------------------------- Task 0 -----------------------------"
   ]
  },
  {
   "cell_type": "code",
   "execution_count": 2,
   "metadata": {},
   "outputs": [],
   "source": [
    "folder = Path(os.getcwd())\n",
    "file1 = folder / 'mp1_av_disengagements.csv'\n",
    "file2 = folder / 'mp1_av_totalmiles.csv'\n",
    "dseng_df = pd.read_csv(file1)\n",
    "summary_month_df = pd.read_csv(file2)"
   ]
  },
  {
   "cell_type": "code",
   "execution_count": 3,
   "metadata": {},
   "outputs": [
    {
     "data": {
      "text/html": [
       "<div>\n",
       "<style scoped>\n",
       "    .dataframe tbody tr th:only-of-type {\n",
       "        vertical-align: middle;\n",
       "    }\n",
       "\n",
       "    .dataframe tbody tr th {\n",
       "        vertical-align: top;\n",
       "    }\n",
       "\n",
       "    .dataframe thead th {\n",
       "        text-align: right;\n",
       "    }\n",
       "</style>\n",
       "<table border=\"1\" class=\"dataframe\">\n",
       "  <thead>\n",
       "    <tr style=\"text-align: right;\">\n",
       "      <th></th>\n",
       "      <th>Month</th>\n",
       "      <th>Car</th>\n",
       "      <th>Location</th>\n",
       "      <th>Weather</th>\n",
       "      <th>TypeOfTrigger</th>\n",
       "      <th>ReactionTime</th>\n",
       "      <th>Cause</th>\n",
       "    </tr>\n",
       "  </thead>\n",
       "  <tbody>\n",
       "    <tr>\n",
       "      <th>0</th>\n",
       "      <td>14-Sep</td>\n",
       "      <td>WDD2221851A001072</td>\n",
       "      <td>urban-street</td>\n",
       "      <td>cloudy</td>\n",
       "      <td>automatic</td>\n",
       "      <td>0.58</td>\n",
       "      <td>Incorrect Traffic Light Detection</td>\n",
       "    </tr>\n",
       "    <tr>\n",
       "      <th>1</th>\n",
       "      <td>14-Sep</td>\n",
       "      <td>WDD2221851A001072</td>\n",
       "      <td>urban-street</td>\n",
       "      <td>cloudy</td>\n",
       "      <td>automatic</td>\n",
       "      <td>0.66</td>\n",
       "      <td>Adverse road surface conditions</td>\n",
       "    </tr>\n",
       "    <tr>\n",
       "      <th>2</th>\n",
       "      <td>14-Sep</td>\n",
       "      <td>WDD2221851A001072</td>\n",
       "      <td>urban-street</td>\n",
       "      <td>cloudy</td>\n",
       "      <td>automatic</td>\n",
       "      <td>1.93</td>\n",
       "      <td>Position Estimation Failure</td>\n",
       "    </tr>\n",
       "    <tr>\n",
       "      <th>3</th>\n",
       "      <td>14-Sep</td>\n",
       "      <td>WDD2221851A001072</td>\n",
       "      <td>urban-street</td>\n",
       "      <td>cloudy</td>\n",
       "      <td>automatic</td>\n",
       "      <td>0.65</td>\n",
       "      <td>Emergency Vehicle</td>\n",
       "    </tr>\n",
       "    <tr>\n",
       "      <th>4</th>\n",
       "      <td>14-Sep</td>\n",
       "      <td>WDD2221851A001072</td>\n",
       "      <td>urban-street</td>\n",
       "      <td>cloudy</td>\n",
       "      <td>automatic</td>\n",
       "      <td>0.64</td>\n",
       "      <td>Adverse road surface conditions</td>\n",
       "    </tr>\n",
       "  </tbody>\n",
       "</table>\n",
       "</div>"
      ],
      "text/plain": [
       "    Month                Car      Location Weather TypeOfTrigger  \\\n",
       "0  14-Sep  WDD2221851A001072  urban-street  cloudy     automatic   \n",
       "1  14-Sep  WDD2221851A001072  urban-street  cloudy     automatic   \n",
       "2  14-Sep  WDD2221851A001072  urban-street  cloudy     automatic   \n",
       "3  14-Sep  WDD2221851A001072  urban-street  cloudy     automatic   \n",
       "4  14-Sep  WDD2221851A001072  urban-street  cloudy     automatic   \n",
       "\n",
       "   ReactionTime                              Cause  \n",
       "0          0.58  Incorrect Traffic Light Detection  \n",
       "1          0.66    Adverse road surface conditions  \n",
       "2          1.93        Position Estimation Failure  \n",
       "3          0.65                  Emergency Vehicle  \n",
       "4          0.64    Adverse road surface conditions  "
      ]
     },
     "execution_count": 3,
     "metadata": {},
     "output_type": "execute_result"
    }
   ],
   "source": [
    "dseng_df.head()"
   ]
  },
  {
   "cell_type": "code",
   "execution_count": 4,
   "metadata": {},
   "outputs": [
    {
     "data": {
      "text/html": [
       "<div>\n",
       "<style scoped>\n",
       "    .dataframe tbody tr th:only-of-type {\n",
       "        vertical-align: middle;\n",
       "    }\n",
       "\n",
       "    .dataframe tbody tr th {\n",
       "        vertical-align: top;\n",
       "    }\n",
       "\n",
       "    .dataframe thead th {\n",
       "        text-align: right;\n",
       "    }\n",
       "</style>\n",
       "<table border=\"1\" class=\"dataframe\">\n",
       "  <thead>\n",
       "    <tr style=\"text-align: right;\">\n",
       "      <th></th>\n",
       "      <th>Month</th>\n",
       "      <th>Car</th>\n",
       "      <th>miles driven in autonomous mode</th>\n",
       "      <th>total number of disengagements</th>\n",
       "      <th>number of automatic disengagements</th>\n",
       "      <th>number of manual disengagements</th>\n",
       "    </tr>\n",
       "  </thead>\n",
       "  <tbody>\n",
       "    <tr>\n",
       "      <th>0</th>\n",
       "      <td>14-Sep</td>\n",
       "      <td>WDD2221851A001072</td>\n",
       "      <td>4207</td>\n",
       "      <td>44</td>\n",
       "      <td>24</td>\n",
       "      <td>20</td>\n",
       "    </tr>\n",
       "    <tr>\n",
       "      <th>1</th>\n",
       "      <td>14-Oct</td>\n",
       "      <td>WDD2221851A001072</td>\n",
       "      <td>23971</td>\n",
       "      <td>228</td>\n",
       "      <td>100</td>\n",
       "      <td>128</td>\n",
       "    </tr>\n",
       "    <tr>\n",
       "      <th>2</th>\n",
       "      <td>14-Nov</td>\n",
       "      <td>WDD2221851A001072</td>\n",
       "      <td>15837</td>\n",
       "      <td>141</td>\n",
       "      <td>66</td>\n",
       "      <td>75</td>\n",
       "    </tr>\n",
       "    <tr>\n",
       "      <th>3</th>\n",
       "      <td>14-Dec</td>\n",
       "      <td>WDD2221851A001072</td>\n",
       "      <td>9413</td>\n",
       "      <td>36</td>\n",
       "      <td>15</td>\n",
       "      <td>21</td>\n",
       "    </tr>\n",
       "    <tr>\n",
       "      <th>4</th>\n",
       "      <td>15-Jan</td>\n",
       "      <td>WDD2221851A001072</td>\n",
       "      <td>18192</td>\n",
       "      <td>48</td>\n",
       "      <td>18</td>\n",
       "      <td>30</td>\n",
       "    </tr>\n",
       "  </tbody>\n",
       "</table>\n",
       "</div>"
      ],
      "text/plain": [
       "    Month                Car  miles driven in autonomous mode  \\\n",
       "0  14-Sep  WDD2221851A001072                             4207   \n",
       "1  14-Oct  WDD2221851A001072                            23971   \n",
       "2  14-Nov  WDD2221851A001072                            15837   \n",
       "3  14-Dec  WDD2221851A001072                             9413   \n",
       "4  15-Jan  WDD2221851A001072                            18192   \n",
       "\n",
       "   total number of disengagements  number of automatic disengagements  \\\n",
       "0                              44                                  24   \n",
       "1                             228                                 100   \n",
       "2                             141                                  66   \n",
       "3                              36                                  15   \n",
       "4                              48                                  18   \n",
       "\n",
       "   number of manual disengagements  \n",
       "0                               20  \n",
       "1                              128  \n",
       "2                               75  \n",
       "3                               21  \n",
       "4                               30  "
      ]
     },
     "execution_count": 4,
     "metadata": {},
     "output_type": "execute_result"
    }
   ],
   "source": [
    "summary_month_df.head()"
   ]
  },
  {
   "cell_type": "markdown",
   "metadata": {},
   "source": [
    "### 0.2 (a) Total number of AV disengagements: 1024"
   ]
  },
  {
   "cell_type": "code",
   "execution_count": 5,
   "metadata": {},
   "outputs": [
    {
     "data": {
      "text/plain": [
       "Month            1024\n",
       "Car              1024\n",
       "Location         1024\n",
       "Weather          1024\n",
       "TypeOfTrigger    1024\n",
       "ReactionTime      492\n",
       "Cause            1024\n",
       "dtype: int64"
      ]
     },
     "execution_count": 5,
     "metadata": {},
     "output_type": "execute_result"
    }
   ],
   "source": [
    "dseng_df.count()"
   ]
  },
  {
   "cell_type": "markdown",
   "metadata": {},
   "source": [
    "### 0.2 (b) Number of unique months that have recorded AV disengagements: 15"
   ]
  },
  {
   "cell_type": "code",
   "execution_count": 6,
   "metadata": {
    "scrolled": true
   },
   "outputs": [],
   "source": [
    "dseng_df['Month_actual'] = dseng_df['Month'].apply(lambda x:x.split(\"-\")[1])"
   ]
  },
  {
   "cell_type": "code",
   "execution_count": 7,
   "metadata": {},
   "outputs": [
    {
     "data": {
      "text/plain": [
       "15"
      ]
     },
     "execution_count": 7,
     "metadata": {},
     "output_type": "execute_result"
    }
   ],
   "source": [
    "dseng_df['Month'].nunique()"
   ]
  },
  {
   "cell_type": "markdown",
   "metadata": {},
   "source": [
    "### 0.2 (c) List of unique locations of AV disengagements: 2"
   ]
  },
  {
   "cell_type": "code",
   "execution_count": 8,
   "metadata": {},
   "outputs": [
    {
     "data": {
      "text/plain": [
       "2"
      ]
     },
     "execution_count": 8,
     "metadata": {},
     "output_type": "execute_result"
    }
   ],
   "source": [
    "dseng_df['Location'].nunique()"
   ]
  },
  {
   "cell_type": "markdown",
   "metadata": {},
   "source": [
    "### 0.2 (d) Number of unique causes for AV disengagements: 10 "
   ]
  },
  {
   "cell_type": "code",
   "execution_count": 9,
   "metadata": {},
   "outputs": [
    {
     "data": {
      "text/plain": [
       "10"
      ]
     },
     "execution_count": 9,
     "metadata": {},
     "output_type": "execute_result"
    }
   ],
   "source": [
    "dseng_df['Cause'].nunique()"
   ]
  },
  {
   "cell_type": "markdown",
   "metadata": {},
   "source": [
    "### 0.2 (e) ReactionTime has 532 missing values because Manual Trigger"
   ]
  },
  {
   "cell_type": "code",
   "execution_count": 10,
   "metadata": {},
   "outputs": [
    {
     "data": {
      "text/plain": [
       "Month              0\n",
       "Car                0\n",
       "Location           0\n",
       "Weather            0\n",
       "TypeOfTrigger      0\n",
       "ReactionTime     532\n",
       "Cause              0\n",
       "Month_actual       0\n",
       "dtype: int64"
      ]
     },
     "execution_count": 10,
     "metadata": {},
     "output_type": "execute_result"
    }
   ],
   "source": [
    "dseng_df.isnull().sum()"
   ]
  },
  {
   "cell_type": "markdown",
   "metadata": {},
   "source": [
    "### 0.3 The top two leading causes of disengagement: Recklessly behaving agent and Unwanted Driver Discomfort"
   ]
  },
  {
   "cell_type": "code",
   "execution_count": 11,
   "metadata": {},
   "outputs": [
    {
     "data": {
      "image/png": "[encoded data removed]",
      "text/plain": [
       "<Figure size 864x576 with 1 Axes>"
      ]
     },
     "metadata": {},
     "output_type": "display_data"
    }
   ],
   "source": [
    "import matplotlib\n",
    "import matplotlib.pyplot as plt\n",
    "matplotlib.rcParams['figure.figsize'] = [12.0, 8.0]\n",
    "import matplotlib as mpl\n",
    "mpl.rcParams['font.size'] = 20.0\n",
    "\n",
    "causes = dseng_df['Cause'].value_counts()\n",
    "causes = causes[causes>10]\n",
    "patches, texts, _ = plt.pie(causes, \n",
    "        # grab labels from frame keys\n",
    "        labels=causes.keys(),\n",
    "        # some formatting\n",
    "        autopct='%.0f%%', shadow=True)\n",
    "#plt.legend(patches, labels=causes.keys(), bbox_to_anchor=(0.85,1.025),loc=\"upper left\")\n",
    "#plt.axis('equal')\n",
    "plt.show()"
   ]
  },
  {
   "cell_type": "markdown",
   "metadata": {},
   "source": [
    "### 0.4 AVs are indeed maturing over time"
   ]
  },
  {
   "cell_type": "code",
   "execution_count": 12,
   "metadata": {},
   "outputs": [
    {
     "data": {
      "image/png": "[encoded data removed]",
      "text/plain": [
       "<Figure size 864x576 with 1 Axes>"
      ]
     },
     "metadata": {
      "needs_background": "light"
     },
     "output_type": "display_data"
    }
   ],
   "source": [
    "#disengagement/mile\n",
    "summary_month_df['total disengagements per mile'] = summary_month_df['total number of disengagements']\\\n",
    "/summary_month_df['miles driven in autonomous mode']\n",
    "\n",
    "#print(summary_month_df['total disengagement per mile'])\n",
    "\n",
    "summary_month_df.iloc[:15,:].plot(x = 'Month',y = 'total disengagements per mile')\n",
    "plt.xlabel('Month')\n",
    "plt.ylabel('# disengagements/mile')\n",
    "plt.title('Car 1')\n",
    "plt.show()"
   ]
  },
  {
   "cell_type": "markdown",
   "metadata": {},
   "source": [
    "# ----------------------------- Task 1 -----------------------------"
   ]
  },
  {
   "cell_type": "markdown",
   "metadata": {},
   "source": [
    "### 1.1 Various distributions:\n",
    "\n",
    "#### a. Gaussian distribution : \n",
    "Also called normal distribution, samples drawn from it follow the general distribution which is given by \n",
    "$$ {\\ f(x)={\\frac {1}{\\sigma {\\sqrt {2\\pi }}}}e^{-{\\frac {1}{2}}\\left({\\frac {x-\\mu }{\\sigma }}\\right)^{2}}} $$\n",
    "\n",
    "Samples drawn are likely to be close to the mean. and those far away are less likely.\n",
    "\n",
    "#### b. Exponential distribution:\n",
    "Here the general distribution is given by \n",
    "$$ f(x;\\lambda) = \\begin{cases}\n",
    "\\lambda e^{-\\lambda x} & x \\ge 0, \\\\\n",
    "0 & x < 0.\n",
    "\\end{cases} $$\n",
    "\n",
    "Samples drawn are likely to be close to Zero. Another key property is memorylessness. i.e. conditional probabability boils down to simple exponentials (only the time period matters not when it starts).\n",
    "\n",
    "#### c. Weibull distribution:\n",
    "\n",
    "Here the general distribution is given by \n",
    "$$ \n",
    "f(x;\\lambda,k) =\n",
    "\\begin{cases}\n",
    "\\frac{k}{\\lambda}\\left(\\frac{x}{\\lambda}\\right)^{k-1}e^{-(x/\\lambda)^{k}} & x\\geq0 ,\\\\\n",
    "0 & x<0,\n",
    "\\end{cases} $$\n",
    "\n",
    "It is a generalisation of standard exponential distribution (k = 1). \n",
    "\n",
    "If X = time-to-failure, then k < 1 indicates failure rate goes down as parts life increases, i.e. probaility that samples fail is very high when X is close to zero and then it decreases. Vice versa for k > 1.\n"
   ]
  },
  {
   "cell_type": "markdown",
   "metadata": {},
   "source": [
    "### 1.2 Reaction times of drivers"
   ]
  },
  {
   "cell_type": "code",
   "execution_count": 13,
   "metadata": {},
   "outputs": [
    {
     "name": "stdout",
     "output_type": "stream",
     "text": [
      "In Weibull distribution fit, k value is 0.3\n"
     ]
    },
    {
     "data": {
      "image/png": "[encoded data removed]",
      "text/plain": [
       "<Figure size 720x432 with 1 Axes>"
      ]
     },
     "metadata": {
      "needs_background": "light"
     },
     "output_type": "display_data"
    }
   ],
   "source": [
    "\n",
    "\"\"\" Actual PDF of reaction times using histograms \"\"\" \n",
    "plt.figure(figsize = (10,6))\n",
    "\n",
    "reaction_t = dseng_df['ReactionTime'].dropna()\n",
    "reaction_t.plot(kind='hist', bins  = 250, density = True, alpha=0.3, color = 'blue', label = 'Orig_data')\n",
    "\n",
    "\"\"\"fitting scikit-learn stats model  \"\"\" \n",
    "\n",
    "x_data = sorted(reaction_t)\n",
    "# normal\n",
    "mean, var = st.norm.fit(x_data)\n",
    "plt.plot(x_data, st.norm.pdf(x_data,mean,var), label = 'Normal')\n",
    "\n",
    "# exponential\n",
    "loc, scale = st.expon.fit(x_data)\n",
    "plt.plot(x_data, st.expon.pdf(x_data,loc, scale), label = 'Exponential')\n",
    "\n",
    "# weibull\n",
    "\n",
    "args = st.exponweib.fit(x_data)\n",
    "plt.plot(x_data, st.exponweib.pdf(x_data,*args), label = 'Weibull')\n",
    "print(\"In Weibull distribution fit, k value is {0}\".format(round(list(args)[1],2)))\n",
    "\n",
    "plt.xlabel('Reaction times (sec)')\n",
    "plt.ylabel('Frequency')\n",
    "plt.title('PDF of Reaction Times Normalized')\n",
    "plt.legend(frameon = False, loc = 'best')\n",
    "plt.show()\n",
    " "
   ]
  },
  {
   "cell_type": "markdown",
   "metadata": {},
   "source": [
    "### Observation: We see that the weibull distribution fits well. Parameter 'k' < 1 so the reaction times are largely populated in the beginning and go down with time."
   ]
  },
  {
   "cell_type": "markdown",
   "metadata": {},
   "source": [
    "### 1.3 Average Reaction Times"
   ]
  },
  {
   "cell_type": "code",
   "execution_count": 14,
   "metadata": {},
   "outputs": [
    {
     "name": "stdout",
     "output_type": "stream",
     "text": [
      "1.3(a) Average Reaction Time for entire data set = 0.93 sec \n",
      "\n",
      "\n",
      "1.3(b) Average Reaction Time (sec) by \n",
      "\n",
      "Location\n",
      "highway         1.48\n",
      "urban-street    0.93\n",
      "Name: ReactionTime, dtype: float64\n"
     ]
    }
   ],
   "source": [
    "print(\"1.3(a) Average Reaction Time for entire data set = {0} sec \\n\\n\".format(round(reaction_t.mean(),2)))\n",
    "\n",
    "print(\"1.3(b) Average Reaction Time (sec) by \\n\")\n",
    "print( round(dseng_df['ReactionTime'].groupby(dseng_df['Location']).mean(),2))\n"
   ]
  },
  {
   "cell_type": "markdown",
   "metadata": {},
   "source": [
    "### 1.4 Hypothesis testing of reaction times "
   ]
  },
  {
   "cell_type": "markdown",
   "metadata": {},
   "source": [
    "Define \n",
    "\n",
    "H0 : AV_mean = 1.09 sec\n",
    "\n",
    "H1 : AV_mean != 1.09 sec\n",
    "\n",
    "Significance level  = 0.05\n",
    "\n",
    "We will apply a two tail test asssuming H0 is true. We will test if 0.93 sec is in statistical limits of assumed population mean (= 1.09 sec)\n"
   ]
  },
  {
   "cell_type": "code",
   "execution_count": 15,
   "metadata": {},
   "outputs": [
    {
     "name": "stdout",
     "output_type": "stream",
     "text": [
      "Z-score (0.018) < 0.025 (two-tailed test) so we reject null hypothesis\n"
     ]
    }
   ],
   "source": [
    "std_AV_sample = reaction_t.std()\n",
    "mean_AV_sample = reaction_t.mean()\n",
    "mean_nonAV_pop = 1.09\n",
    "est_std_AV_pop = std_AV_sample/math.sqrt(dseng_df['ReactionTime'].dropna().count())\n",
    "z_stat = (mean_AV_sample - mean_nonAV_pop)/est_std_AV_pop\n",
    "\n",
    "z_score = st.norm.cdf(z_stat)\n",
    "\n",
    "print(\"Z-score ({0}) < 0.025 (two-tailed test) so we reject null hypothesis\".format(round(z_score,3)))\n"
   ]
  },
  {
   "cell_type": "markdown",
   "metadata": {},
   "source": [
    "### 1.5 PDF of Disengagements/mile with monthly granularity"
   ]
  },
  {
   "cell_type": "code",
   "execution_count": 16,
   "metadata": {},
   "outputs": [],
   "source": [
    "# This function was taken from an external source (stackoverflow) and edited to fit our code\n",
    "# https://stackoverflow.com/questions/37487830/how-to-find-probability-distribution-and-parameters-for-real-data-python-3\n",
    "\n",
    "def get_best_distribution(data, distributions):\n",
    "    results = []\n",
    "    parameters = {}\n",
    "    for distribution in distributions:\n",
    "        dist = getattr(st, distribution)\n",
    "        # fit the distribution and get parameters\n",
    "        parameter = dist.fit(data)\n",
    "        parameters[distribution] = parameter\n",
    "        \n",
    "        # Applying the Kolmogorov-Smirnov test\n",
    "        D, p = st.kstest(data, distribution, args=parameter)\n",
    "        results.append((distribution, p))\n",
    "\n",
    "    # select the best fitted distribution\n",
    "    best_distribution, best_p_value = (max(results, key = lambda item: item[1]))\n",
    "\n",
    "    print(\"Best fitting distribution: \" + str(best_distribution))\n",
    "    print(\"Best p value: \"+ str(best_p_value))\n",
    "    print(\"Parameters for the best fit: \"+ str(parameters[best_distribution]))\n",
    "\n",
    "    return best_distribution, best_p_value, parameters[best_distribution]"
   ]
  },
  {
   "cell_type": "code",
   "execution_count": 17,
   "metadata": {},
   "outputs": [
    {
     "data": {
      "image/png": "[encoded data removed]",
      "text/plain": [
       "<Figure size 864x576 with 1 Axes>"
      ]
     },
     "metadata": {
      "needs_background": "light"
     },
     "output_type": "display_data"
    },
    {
     "name": "stderr",
     "output_type": "stream",
     "text": [
      "C:\\ProgramData\\Anaconda3\\lib\\site-packages\\scipy\\stats\\_continuous_distns.py:1469: RuntimeWarning: invalid value encountered in add\n",
      "  negxc + sc.xlogy(c - 1.0, x))\n"
     ]
    },
    {
     "name": "stdout",
     "output_type": "stream",
     "text": [
      "Best fitting distribution: weibull_min\n",
      "Best p value: 0.4962771751155636\n",
      "Parameters for the best fit: (0.6345691062722936, 0.0003605973188528762, 0.003454002298430405)\n"
     ]
    },
    {
     "data": {
      "image/png": "[encoded data removed]",
      "text/plain": [
       "<Figure size 864x576 with 1 Axes>"
      ]
     },
     "metadata": {
      "needs_background": "light"
     },
     "output_type": "display_data"
    }
   ],
   "source": [
    "\n",
    "hist = summary_month_df['total disengagements per mile'].dropna().hist(bins = 10)\n",
    "plt.title('Probability Distribution of Disengagement/Mile')\n",
    "plt.xlabel('Disengagement/Mile')\n",
    "plt.ylabel('Frequency')\n",
    "plt.show()\n",
    "\n",
    "data_to_fit = summary_month_df['total disengagements per mile'].dropna()\n",
    "distributions = ['norm','expon','exponweib','weibull_min']\n",
    "best_distribution, best_p_value, parameters = get_best_distribution(data_to_fit, distributions)\n",
    "\n",
    "ax = sns.distplot(summary_month_df['total disengagements per mile'].dropna(), kde=False, fit=st.weibull_min, bins=10)\n",
    "plt.title('Weibull Fit')\n",
    "plt.xlabel('Disengagement/Mile')\n",
    "plt.ylabel('Frequency')\n",
    "plt.show()"
   ]
  },
  {
   "cell_type": "markdown",
   "metadata": {},
   "source": [
    "Weibull_min distribution fits well. We see that the number of # of\n",
    "Occurences of Disengagements/mile parameter goes down. \n",
    "(parameter k<1: Failure rate decreases over time)\n"
   ]
  },
  {
   "cell_type": "markdown",
   "metadata": {},
   "source": [
    "# ----------------------------- Task 2 -----------------------------"
   ]
  },
  {
   "cell_type": "markdown",
   "metadata": {},
   "source": [
    "# 2.1\n",
    "### (a) The assumption on maximum number of disengagements in a mile allows us to treat the occurrence of a disengagement in a mile as a random variable with a **Bernoulli distribution** where the only possible outcomes in a mile are disengagement or no disengagement. A combination of multiple miles follows a **Binomial** distribution."
   ]
  },
  {
   "cell_type": "markdown",
   "metadata": {},
   "source": [
    "### (b) Based on the above assumptions, calculate the probability of disengagement per mile on a cloudy day:\n",
    "\n",
    "We first calculate the probability of disengagement per mile $ P(diseng) $\n",
    "\n",
    "$ P(diseng) = \\frac {Total Disengagements}{Total Miles} $"
   ]
  },
  {
   "cell_type": "markdown",
   "metadata": {},
   "source": [
    "We then use Bayes Rule as follows:\n",
    "    \n",
    "$$ P(diseng | cloudy) = \\frac {P(cloudy | diseng) P(diseng)}{P(cloudy)} $$\n",
    "\n",
    "We can calculate $$ P(cloudy | diseng) = \\frac{\\text{Number of disengagements  in  cloudy  weather}} {\\text{Total disengagements}} $$ from the disengagement dataset\n",
    "\n",
    "We are assuming $ P(cloudy) = 1 - P(clear) = 1 - 0.72 = 0.28 $"
   ]
  },
  {
   "cell_type": "code",
   "execution_count": 18,
   "metadata": {},
   "outputs": [
    {
     "name": "stdout",
     "output_type": "stream",
     "text": [
      "The probability of disengagement per mile on a cloudy day is 0.0059\n"
     ]
    }
   ],
   "source": [
    "p_diseng = summary_month_df['total number of disengagements'].sum()/summary_month_df['miles driven in autonomous mode'].sum()\n",
    "p_cloudy = 0.28\n",
    "p_cloudy_diseng = dseng_df['Weather'].value_counts()['cloudy']/len(dseng_df)\n",
    "p_diseng_cloudy = p_cloudy_diseng * p_diseng / p_cloudy\n",
    "print('The probability of disengagement per mile on a cloudy day is {}'.format(round(p_diseng_cloudy,5)))"
   ]
  },
  {
   "cell_type": "markdown",
   "metadata": {},
   "source": [
    "### (c) Based on the above assumptions, calculate the probability of disengagement per mile on a clear day:"
   ]
  },
  {
   "cell_type": "markdown",
   "metadata": {},
   "source": [
    "Use the same approach as in 1 (b)\n",
    "\n",
    "$$ P(diseng | clear) = \\frac {P(clear | diseng) P(diseng)}{P(clear)} $$"
   ]
  },
  {
   "cell_type": "code",
   "execution_count": 19,
   "metadata": {},
   "outputs": [
    {
     "name": "stdout",
     "output_type": "stream",
     "text": [
      "The probability of disengagement per mile on a clear day is 0.00052\n"
     ]
    }
   ],
   "source": [
    "p_clear = 0.72\n",
    "p_clear_diseng = dseng_df['Weather'].value_counts()['clear']/len(dseng_df)\n",
    "p_diseng_clear = p_clear_diseng * p_diseng / p_clear\n",
    "print('The probability of disengagement per mile on a clear day is {}'.format(round(p_diseng_clear,5)))"
   ]
  },
  {
   "cell_type": "markdown",
   "metadata": {},
   "source": [
    "### (d) Similarly, calculate the probability of an automatic disengagement per mile on a cloudy day, and the probability of an automatic disengagement per mile on a clear day:"
   ]
  },
  {
   "cell_type": "markdown",
   "metadata": {},
   "source": [
    "Here we have an additional constraint of the disengagement being an automatic one. We can write\n",
    "\n",
    "$$ P(diseng, automatic | cloudy) = \\frac {P(cloudy, automatic | diseng) P(diseng)}{P(cloudy)} $$\n",
    "\n",
    "and\n",
    "\n",
    "$$ P(diseng, automatic | clear) = \\frac {P(clear, automatic | diseng) P(diseng)}{P(clear)} $$\n",
    "\n",
    "We can calculate $ P(cloudy, automatic | diseng) $ and $ P(clear, automatic | diseng) $ from the disengagement dataset"
   ]
  },
  {
   "cell_type": "code",
   "execution_count": 39,
   "metadata": {},
   "outputs": [
    {
     "name": "stdout",
     "output_type": "stream",
     "text": [
      "The probability of an automatic disengagement per mile on a cloudy day is 0.00281\n",
      "The probability of an automatic disengagement per mile on a clear day is 0.00026\n"
     ]
    }
   ],
   "source": [
    "cloudy_automatic_count = 0\n",
    "clear_automatic_count = 0\n",
    "for i in range(len(dseng_df)):\n",
    "    if (dseng_df.loc[i,'Weather']=='cloudy' and dseng_df.loc[i,'TypeOfTrigger']=='automatic'):\n",
    "        cloudy_automatic_count += 1\n",
    "    if (dseng_df.loc[i,'Weather']=='clear' and dseng_df.loc[i,'TypeOfTrigger']=='automatic'):\n",
    "        clear_automatic_count += 1\n",
    "p_cloudy_automatic_diseng = cloudy_automatic_count/len(dseng_df)\n",
    "p_clear_automatic_diseng = clear_automatic_count/len(dseng_df)\n",
    "\n",
    "p_diseng_automatic_cloudy = p_cloudy_automatic_diseng * p_diseng / p_cloudy\n",
    "p_diseng_automatic_clear = p_clear_automatic_diseng * p_diseng / p_clear\n",
    "\n",
    "print('The probability of an automatic disengagement per mile on a cloudy day is {}'.format(round(p_diseng_automatic_cloudy,5)))\n",
    "print('The probability of an automatic disengagement per mile on a clear day is {}'.format(round(p_diseng_automatic_clear,5)))"
   ]
  },
  {
   "cell_type": "markdown",
   "metadata": {},
   "source": [
    "### (e) How likely is it that in 12000 miles, there are 150 or more disengagements under cloudy conditions?"
   ]
  },
  {
   "cell_type": "markdown",
   "metadata": {},
   "source": [
    "If we let $X$ be the random variable denoting the number of disengagements under cloudy conditions.\n",
    "\n",
    "Thus, $X$ is **Binomially Distributed** with $ n = 12000 $ and $ p = P(diseng | cloudy) = 0.0059 $\n",
    "\n",
    "#Reference for approximation: https://www.statisticshowto.datasciencecentral.com/probability-and-statistics/binomial-theorem/normal-approximation-to-the-binomial/\n",
    "We have a large sample size (np = 70.8 > 5), so central limit theorem can be used.\n",
    "\n",
    "Using the central limit theorem, we can say that $$ Z = \\frac {X - \\mu} {\\sigma} $$ is **Standard Normal**, with $ \\mu = np $ and $ \\sigma^2 = np(1-p)$\n",
    "\n",
    "Thus we need to find $$ P(X \\ge 150) = P(X \\ge 149.5) = 1 - P (X \\le 149.5) = 1 - P(Z < \\frac{149.5 - np}{\\sqrt {np(1-p)}}) $$\n",
    "\n",
    "We take 149.5 instead of 150 to account for the continuity correction"
   ]
  },
  {
   "cell_type": "code",
   "execution_count": 21,
   "metadata": {},
   "outputs": [
    {
     "name": "stdout",
     "output_type": "stream",
     "text": [
      "Probability of 150 or more disengagements under cloudy conditions in 12000 miles is 0.0\n",
      "The value is very low. It is very unlikely that so many disengagements occur\n"
     ]
    }
   ],
   "source": [
    "n = 12000\n",
    "mu = n*p_diseng_cloudy\n",
    "sigma = np.sqrt(n*p_diseng_cloudy*(1-p_diseng_cloudy))\n",
    "p_150 = st.norm(mu,sigma).cdf(149.5)\n",
    "#We take 149.5 instead of 150 to account for the continuity correction\n",
    "print('Probability of 150 or more disengagements under cloudy conditions in 12000 miles is {}'.format(1 - p_150))\n",
    "print(\"The value is very low. It is very unlikely that so many disengagements occur\")"
   ]
  },
  {
   "cell_type": "markdown",
   "metadata": {},
   "source": [
    "# 2.2\n",
    "### (a) What does the normal distribution represent in the hypothesis testing?\n",
    "Normal Distribution represents the probability distribution of the random variable (under observation) of the sample drawn from a bigger population (assuming null hypothesis is true)."
   ]
  },
  {
   "cell_type": "markdown",
   "metadata": {},
   "source": [
    "### (b) Does rejecting the null hypothesis mean accepting the alternative hypothesis? Explain."
   ]
  },
  {
   "cell_type": "markdown",
   "metadata": {},
   "source": [
    "No, we reject the null hypothesis due to lack of evidence under certain significance level ($\\alpha $). We conclude that under these conditions alternate hypothesis is statistically probable. In other words, it is likely true. This is not the same as accepting it.\n"
   ]
  },
  {
   "cell_type": "markdown",
   "metadata": {},
   "source": [
    "## 2.3 Hypothesis Testing using the Z-Test\n",
    "\n",
    "### At a 0.05 significance level, test the following hypothesis: The AV has more disengagements (automatic and manual) on cloudy days than clear days. Based on the result of the hypothesis test, what can you conclude about the impact of weather conditions on AV safety?\n",
    "\n",
    "We can use hypothesis testing for difference in 2 proportions.\n",
    "\n",
    "We can formulate the Null and Alternate Hypothesis as follows:\n",
    "\n",
    "$$ H_o : \\text{Number of disengagements on cloudy days} \\leq \\text{Number of disengagements on clear days}$$ and\n",
    "\n",
    "\n",
    "$$ H_a : \\text{Number of disengagements on cloudy days} > \\text{Number of disengagements on clear days}$$\n",
    "\n",
    "n1 = total AV miles ridden * p(cloudy) --> population 1 (cloudy) <br>\n",
    "n2 = total AV miles ridden * p(clear) --> population 2 (clear)<br>\n",
    "\n",
    "X1 = total no. of disengagement when cloudy <br>\n",
    "X2 = total no. of disengagement when clear \n",
    "\n",
    "$$\\hat{p1} = \\frac{X1}{n1}$$ <br>\n",
    "$$\\hat{p2} = \\frac{X2}{n2}$$ <br>\n",
    "$$\\hat{p} = \\frac{X1 + X2}{n1 + n2}$$ <br>\n",
    "$$\\hat{q} = 1- \\hat{p}$$ <br>\n",
    "\n",
    "Hypothesis testing: <br>\n",
    "\n",
    "H0 (Null): $$\\hat{p1} - \\hat{p2} \\le 0 $$ <br> i.e. cloudy days have less disengagements than clear days <br> <br>\n",
    "H1 (Alternate): $$\\hat{p1} - \\hat{p2} > 0 $$ <br>\n",
    "\n",
    "\n",
    "Test-Statistic =  $$ Z =  \\frac {(\\hat{p1} - \\hat{p2})- 0} {\\sqrt {\\hat{p}\\hat{q} (\\frac{1}{n1}+\\frac{1}{n2})} }  $$ <br>\n",
    "\n",
    "we use the **right tailed test on the normal distribution** \n",
    "$$ Z_{dist} \\approx N(0,\\sqrt {\\hat{p}\\hat{q} (\\frac{1}{n1}+\\frac{1}{n2})} )$$\n"
   ]
  },
  {
   "cell_type": "code",
   "execution_count": 40,
   "metadata": {},
   "outputs": [
    {
     "name": "stdout",
     "output_type": "stream",
     "text": [
      "Z_stat is 38.199\n",
      "p_value is 0.0 << 0.05. Hence we reject H0, and say that \n",
      "It is statistically likely that number of disengagements on a cloudy day are more than a clear day\n"
     ]
    }
   ],
   "source": [
    "X1 = sum(dseng_df['Weather'] == 'cloudy')\n",
    "n1 = summary_month_df['miles driven in autonomous mode'].sum()*p_cloudy\n",
    "p_hat_1 = X1/n1 \n",
    "\n",
    "X2 = sum(dseng_df['Weather'] == 'clear')\n",
    "n2 = summary_month_df['miles driven in autonomous mode'].sum()*p_clear\n",
    "p_hat_2 = X2/n2 \n",
    "\n",
    "p_hat = (X1+X2)/(n1+n2)\n",
    "q_hat = 1-p_hat\n",
    "\n",
    "Z_stat = (p_hat_1-p_hat_2)/math.sqrt(p_hat*q_hat*(1/n1+1/n2))\n",
    "\n",
    "p_value = 1-st.norm.cdf(Z_stat)\n",
    "print(\"Z_stat is {0:0.{1}f}\".format(Z_stat,3))\n",
    "print(\"p_value is {0} << 0.05. Hence we reject H0, and say that \\nIt is statistically likely that number of \\\n",
    "disengagements on a cloudy day are more than a clear day\".format(p_value))"
   ]
  },
  {
   "cell_type": "markdown",
   "metadata": {},
   "source": [
    "## 2.4\n",
    "### (a) Find the conditional probability that the reaction time is greater than 0.6s given that the weather was cloudy?"
   ]
  },
  {
   "cell_type": "code",
   "execution_count": 23,
   "metadata": {},
   "outputs": [
    {
     "name": "stdout",
     "output_type": "stream",
     "text": [
      "Probability that the reaction time is greater than 0.6s given that the weather was cloudy is 0.474\n"
     ]
    }
   ],
   "source": [
    "cloudy_automatic_count = 0\n",
    "cloudy_automatic_reactiontime_count = 0\n",
    "for i in range(len(dseng_df)):\n",
    "    if (dseng_df.loc[i,'Weather']=='cloudy' and dseng_df.loc[i,'TypeOfTrigger']=='automatic'):\n",
    "        cloudy_automatic_count += 1\n",
    "    if (dseng_df.loc[i,'Weather']=='cloudy' and dseng_df.loc[i,'TypeOfTrigger']=='automatic' and dseng_df.loc[i,'ReactionTime']>0.6):\n",
    "        cloudy_automatic_reactiontime_count += 1\n",
    "\n",
    "p_cloudy_automatic_reactiontime = cloudy_automatic_reactiontime_count/cloudy_automatic_count\n",
    "print('Probability that the reaction time is greater than 0.6s given that the weather was cloudy is {}'.format(round(p_cloudy_automatic_reactiontime,3)))"
   ]
  },
  {
   "cell_type": "markdown",
   "metadata": {},
   "source": [
    "### (b) Find the conditional probability that the reaction time is greater than 0.9s given that the weather was clear?"
   ]
  },
  {
   "cell_type": "code",
   "execution_count": 24,
   "metadata": {},
   "outputs": [
    {
     "name": "stdout",
     "output_type": "stream",
     "text": [
      "Probability that the reaction time is greater than 0.9s given that the weather was clear is 0.281\n"
     ]
    }
   ],
   "source": [
    "clear_automatic_count = 0\n",
    "clear_automatic_reactiontime_count = 0\n",
    "for i in range(len(dseng_df)):\n",
    "    if (dseng_df.loc[i,'Weather']=='clear' and dseng_df.loc[i,'TypeOfTrigger']=='automatic'):\n",
    "        clear_automatic_count += 1\n",
    "    if (dseng_df.loc[i,'Weather']=='clear' and dseng_df.loc[i,'TypeOfTrigger']=='automatic' and dseng_df.loc[i,'ReactionTime']>0.9):\n",
    "        clear_automatic_reactiontime_count += 1\n",
    "\n",
    "p_clear_automatic_reactiontime = clear_automatic_reactiontime_count/clear_automatic_count\n",
    "print('Probability that the reaction time is greater than 0.9s given that the weather was clear is {}'.format(round(p_clear_automatic_reactiontime,3)))"
   ]
  },
  {
   "cell_type": "markdown",
   "metadata": {},
   "source": [
    "## 2.5 Theorem of Total Probability\n",
    "### A study found that an automatic AV disengagement will result in an accident if the human driver is slow in reacting. Following reactions are considered slow: (i) a reaction time greater than 0.6s under cloudy conditions and, (ii) a reaction time greater than 0.9s under clear conditions. Find the probability of an accident per mile involving an AV disengagement"
   ]
  },
  {
   "cell_type": "markdown",
   "metadata": {},
   "source": [
    "$$ P(accident/mile) = P(accident | cloudy, diseng) P(diseng | cloudy) P(cloudy) + P(accident | clear, diseng)  P(diseng | clear)  P(clear)$$\n",
    "thus\n",
    "$$ P(accident/mile) = P(RT>0.6s | cloudy, diseng) P(diseng | cloudy) P(cloudy) + P(RT>0.9s | clear, diseng)  P(diseng | clear)  P(clear)$$"
   ]
  },
  {
   "cell_type": "code",
   "execution_count": 41,
   "metadata": {},
   "outputs": [
    {
     "name": "stdout",
     "output_type": "stream",
     "text": [
      "Probability of an accident per mile for an AV disengagement is 0.00043\n"
     ]
    }
   ],
   "source": [
    "p_accident_AV = p_cloudy_automatic_reactiontime*p_diseng_automatic_cloudy*p_cloudy + p_clear_automatic_reactiontime*p_diseng_automatic_clear*p_clear\n",
    "print('Probability of an accident per mile for an AV disengagement is {}'.format(round(p_accident_AV,5)))"
   ]
  },
  {
   "cell_type": "markdown",
   "metadata": {},
   "source": [
    "## 2.6 Compare AVs to Human Drivers\n",
    "### The probability of a human driver causing a car accident is $2$ x $10^{-6}$. How do AVs compare to human drivers? Justify your conclusion and explain its consequences.\n",
    "\n",
    "$P(accident)$ for an AV is $\\approx 4.26$ x $10^{-4}$ which is roughly **213 times higher** than human drivers. The consequence is that more work has to go in to make AVs as safe as human drivers, so that they can be put on the streets with equal (if not more) confidence."
   ]
  },
  {
   "cell_type": "markdown",
   "metadata": {},
   "source": [
    "## 2.7 Hypothesis test on unknown distributions:\n",
    "\n",
    "### The hypothesis test you performed in this task is an example of a parametric test that assumes that the observed data is distributed similarly to some other well-known distribution (such as a normal distribution). However, sometimes, we need to compare two distributions of data that don’t follow any such well-known distributions. Perform a two-sample Kolmogorov-Smirnov test (using the ks_2samp package from Scipy) to compare the following two distributions: \n",
    "\n",
    "### (1) distribution of disengagement reaction time when the weather is cloudy and \n",
    "\n",
    "### (2) distribution of disengagement reaction time when the weather is clear. \n",
    "\n",
    "### What are your null and alternative hypotheses? Assuming a significance level threshold of 0.1, what can you conclude from the test results about the impact of weather conditions on disengagement reaction time?\n",
    "\n",
    "We can formulate the Null and Alternate Hypothesis as follows:\n",
    "\n",
    "$$ H_o : \\text{The reaction times in cloudy and clear weathers can be drawn from the same continuous distribution} $$\n",
    "and\n",
    "$$ H_a : \\text{The reaction times in cloudy and clear weathers are from different distributions} $$"
   ]
  },
  {
   "cell_type": "code",
   "execution_count": 26,
   "metadata": {},
   "outputs": [
    {
     "name": "stdout",
     "output_type": "stream",
     "text": [
      "The KS Statistic for the performed hypothesis test is 0.051 and the p-value is 0.984\n",
      "\n",
      "p-value (0.984) > significance level (0.1)\n",
      "Do not reject null hypothesis \n",
      "The reaction times in cloudy and clear weathers may be drawn from the same continuous distribution\n"
     ]
    }
   ],
   "source": [
    "cloudy_reaction_times = []\n",
    "clear_reaction_times = []\n",
    "tempdf = dseng_df.dropna()\n",
    "for i in tempdf.index:\n",
    "    if (tempdf.loc[i,'Weather'] == 'cloudy'):\n",
    "        cloudy_reaction_times.append(tempdf.loc[i,'ReactionTime'])\n",
    "    if (tempdf.loc[i,'Weather'] == 'clear'):\n",
    "        clear_reaction_times.append(tempdf.loc[i,'ReactionTime'])\n",
    "ks_stat, p_value = st.ks_2samp(cloudy_reaction_times, clear_reaction_times)\n",
    "print('The KS Statistic for the performed hypothesis test is {} and the p-value is {}'.format(round(ks_stat,3),round(p_value,3)))\n",
    "\n",
    "if p_value > 0.1:\n",
    "    print('\\np-value ({}) > significance level (0.1)\\nDo not reject null hypothesis \\nThe reaction times in cloudy and clear weathers may be drawn from the same continuous distribution'.format(round(p_value,3)))\n",
    "else:\n",
    "    print('\\np-value ({}) < significance level (0.1)\\n Reject Null Hypothesis \\n \\\n",
    "    The reaction times in cloudy and clear weathers are from different distributions'.format(p_value))"
   ]
  },
  {
   "cell_type": "markdown",
   "metadata": {},
   "source": [
    "Here the **p-value is very high** and the **KS-statistic very low**. Both of these indicate a very high confidence in the Null Hypothesis. We can say with high certainty that **reaction times in both weathers are drawn from the same continuous distribution**."
   ]
  },
  {
   "cell_type": "code",
   "execution_count": 27,
   "metadata": {},
   "outputs": [
    {
     "name": "stdout",
     "output_type": "stream",
     "text": [
      "Best fitting distribution: exponweib\n",
      "Best p value: 0.7586716405657775\n",
      "Parameters for the best fit: (40.183464291899924, 0.32933509104489334, -0.08436915261654243, 0.008925160025582357)\n",
      "Best fitting distribution: exponweib\n",
      "Best p value: 0.9020347448843626\n",
      "Parameters for the best fit: (69.12912308357286, 0.28763395942580006, -0.08083639869513057, 0.0031774218474021603)\n"
     ]
    }
   ],
   "source": [
    "_,_,_ = get_best_distribution(cloudy_reaction_times, ['norm','exponweib','weibull_min','expon'])\n",
    "_,_,_ = get_best_distribution(clear_reaction_times, ['norm','exponweib','weibull_min','expon'])"
   ]
  },
  {
   "cell_type": "markdown",
   "metadata": {},
   "source": [
    "As clearly seen, both distributions fit the Exponentiated Weibull very well (p values 0.76 and 0.90)\n",
    "\n",
    "**We can conclude that the disengagement reaction times are independent of weather conditions.**"
   ]
  },
  {
   "cell_type": "markdown",
   "metadata": {},
   "source": [
    "# ----------------------------- Task 3 -----------------------------"
   ]
  },
  {
   "cell_type": "markdown",
   "metadata": {},
   "source": [
    "## 3.1 Including a 'Class' column:"
   ]
  },
  {
   "cell_type": "code",
   "execution_count": 28,
   "metadata": {},
   "outputs": [],
   "source": [
    "#Adding a column names \"Class\" \n",
    "dict_names={'Incorrect behavior prediction of others':'Controller','Recklessly behaving agent':'Controller',\\\n",
    "           'Unwanted Driver Discomfort':'Controller','Adverse road surface conditions':'Perception System',\\\n",
    "           'Emergency Vehicle':'Perception System','Position Estimation Failure':'Perception System',\\\n",
    "           'Incorrect Traffic Light Detection':'Perception System','System Tuning and Calibration':'Computer System',\\\n",
    "           'Hardware Fault':'Computer System','Software Froze':'Computer System'}\n",
    "\n",
    "dseng_df['Class']=dseng_df['Cause'].map(dict_names)"
   ]
  },
  {
   "cell_type": "markdown",
   "metadata": {},
   "source": [
    "## 3.2 Split the data into training and testing (80-20 split):"
   ]
  },
  {
   "cell_type": "code",
   "execution_count": 29,
   "metadata": {},
   "outputs": [],
   "source": [
    "'''\n",
    "We can use the train_test_split to do this, but black boxes of code aren't preferable\n",
    "\n",
    "from sklearn.model_selection import train_test_split\n",
    "\n",
    "X = dseng_df[['Location','Weather','TypeOfTrigger']].values\n",
    "y = dseng_df[['Class']].values\n",
    "X_train, X_test, y_train, y_test = train_test_split(X, y, train_size = 0.8)\n",
    "\n",
    "'''\n",
    "ratio = 0.8\n",
    "\n",
    "shuffled_df = (dseng_df[['Class','Location','Weather','TypeOfTrigger']]\n",
    "               .sample(frac = 1)\n",
    "               .reset_index()\n",
    "               .drop('index',axis = 1))\n",
    "train_df = shuffled_df.loc[:int(ratio*len(shuffled_df))]\n",
    "test_df = shuffled_df.loc[int(ratio*len(shuffled_df)):]\n",
    "\n",
    "#We use the standard X_train, X_test, y_train, y_test format\n",
    "X_train = train_df[['Location','Weather','TypeOfTrigger']].values\n",
    "X_test = test_df[['Location','Weather','TypeOfTrigger']].values\n",
    "y_train = train_df[['Class']].values\n",
    "y_test = test_df[['Class']].values"
   ]
  },
  {
   "cell_type": "markdown",
   "metadata": {},
   "source": [
    "## 3.3 Train the Naive Bayes model based on the features. Show the conditional probability tables."
   ]
  },
  {
   "cell_type": "code",
   "execution_count": 42,
   "metadata": {},
   "outputs": [
    {
     "name": "stdout",
     "output_type": "stream",
     "text": [
      "The following are the class probabilities or \"priors\" \n",
      "{'Perception System': 0.3439024390243902, 'Controller': 0.3670731707317073, 'Computer System': 0.2890243902439024}\n",
      "\n",
      "Conditional Probability Table or \"likelihoods\" are as shown:\n",
      "\n"
     ]
    },
    {
     "data": {
      "text/html": [
       "<div>\n",
       "<style scoped>\n",
       "    .dataframe tbody tr th:only-of-type {\n",
       "        vertical-align: middle;\n",
       "    }\n",
       "\n",
       "    .dataframe tbody tr th {\n",
       "        vertical-align: top;\n",
       "    }\n",
       "\n",
       "    .dataframe thead th {\n",
       "        text-align: right;\n",
       "    }\n",
       "</style>\n",
       "<table border=\"1\" class=\"dataframe\">\n",
       "  <thead>\n",
       "    <tr style=\"text-align: right;\">\n",
       "      <th></th>\n",
       "      <th>urban-street</th>\n",
       "      <th>highway</th>\n",
       "      <th>cloudy</th>\n",
       "      <th>clear</th>\n",
       "      <th>automatic</th>\n",
       "      <th>manual</th>\n",
       "    </tr>\n",
       "  </thead>\n",
       "  <tbody>\n",
       "    <tr>\n",
       "      <th>Perception System</th>\n",
       "      <td>1</td>\n",
       "      <td>0</td>\n",
       "      <td>1</td>\n",
       "      <td>0</td>\n",
       "      <td>0.819149</td>\n",
       "      <td>0.180851</td>\n",
       "    </tr>\n",
       "    <tr>\n",
       "      <th>Controller</th>\n",
       "      <td>1</td>\n",
       "      <td>0</td>\n",
       "      <td>1</td>\n",
       "      <td>0</td>\n",
       "      <td>0.13289</td>\n",
       "      <td>0.86711</td>\n",
       "    </tr>\n",
       "    <tr>\n",
       "      <th>Computer System</th>\n",
       "      <td>0.919831</td>\n",
       "      <td>0.0801688</td>\n",
       "      <td>0.379747</td>\n",
       "      <td>0.620253</td>\n",
       "      <td>0.49789</td>\n",
       "      <td>0.50211</td>\n",
       "    </tr>\n",
       "  </tbody>\n",
       "</table>\n",
       "</div>"
      ],
      "text/plain": [
       "                  urban-street    highway    cloudy     clear automatic  \\\n",
       "Perception System            1          0         1         0  0.819149   \n",
       "Controller                   1          0         1         0   0.13289   \n",
       "Computer System       0.919831  0.0801688  0.379747  0.620253   0.49789   \n",
       "\n",
       "                     manual  \n",
       "Perception System  0.180851  \n",
       "Controller          0.86711  \n",
       "Computer System     0.50211  "
      ]
     },
     "execution_count": 42,
     "metadata": {},
     "output_type": "execute_result"
    }
   ],
   "source": [
    "def train_naive_bayes(train_df, class_labels, feature_labels):\n",
    "    \n",
    "    class_prob = {}\n",
    "    conditional_prob = pd.DataFrame(columns = feature_labels)\n",
    "\n",
    "    for label in class_labels:\n",
    "        class_prob[label] = train_df['Class'].value_counts()[label] / len(train_df)    \n",
    "        \n",
    "        for feature in feature_labels:\n",
    "            num = len(train_df[(train_df['Class']==label) & ((train_df['Location']==feature) | (train_df['Weather']==feature) | (train_df['TypeOfTrigger']==feature))])\n",
    "            den = len(train_df[(train_df['Class']==label)])\n",
    "            conditional_prob.loc[label,feature] = num/den\n",
    "    \n",
    "    return class_prob, conditional_prob\n",
    "\n",
    "class_labels = train_df['Class'].unique().tolist()\n",
    "feature_labels = (train_df['Location'].unique().tolist() + train_df['Weather'].unique().tolist() + train_df['TypeOfTrigger'].unique().tolist())\n",
    "\n",
    "class_prob, conditional_prob = train_naive_bayes(train_df, class_labels, feature_labels)\n",
    "\n",
    "print('The following are the class probabilities or \"priors\" \\n{}\\n'.format(class_prob))\n",
    "print('Conditional Probability Table or \"likelihoods\" are as shown:\\n')\n",
    "conditional_prob"
   ]
  },
  {
   "cell_type": "markdown",
   "metadata": {},
   "source": [
    "The priors are the required $P(C_k)$. The CPT shows $P(column | row)$ which are the required $ P( x_i | C_k ) $"
   ]
  },
  {
   "cell_type": "markdown",
   "metadata": {},
   "source": [
    "## 3.4 Predict the labels for the test dataset and compute the accuracy"
   ]
  },
  {
   "cell_type": "code",
   "execution_count": 32,
   "metadata": {},
   "outputs": [
    {
     "name": "stdout",
     "output_type": "stream",
     "text": [
      "The accuracy of the model is 80.98 %\n"
     ]
    }
   ],
   "source": [
    "def predict_labels(X_test, class_prob, conditional_prob):\n",
    "    y_predicted = []\n",
    "    labels = conditional_prob.index.tolist()\n",
    "    for i in range(len(X_test)):\n",
    "        temp = {}\n",
    "        for label in labels:\n",
    "            p = class_prob[label]\n",
    "            for feature in X_test[i]:\n",
    "                p *= conditional_prob.loc[label, feature]\n",
    "            temp[label] = p\n",
    "        map_label = [index for index, value in temp.items() if value == max(temp.values())] #basically argmax over all k\n",
    "        y_predicted.append(map_label)\n",
    "    return np.asarray(y_predicted)            \n",
    "\n",
    "y_predicted = predict_labels(X_test, class_prob, conditional_prob)\n",
    "\n",
    "accuracy = (y_predicted == y_test).sum()/len(y_test)*100\n",
    "\n",
    "print('The accuracy of the model is {:.2f} %'.format(accuracy))"
   ]
  },
  {
   "cell_type": "markdown",
   "metadata": {},
   "source": [
    "## 3.5 Cross Validation:"
   ]
  },
  {
   "cell_type": "code",
   "execution_count": 33,
   "metadata": {},
   "outputs": [
    {
     "name": "stdout",
     "output_type": "stream",
     "text": [
      "The percentage accuracies for random splits of test data are \n",
      "[81.95121951219512, 80.48780487804879, 81.46341463414633, 72.6829268292683, 78.04878048780488]\n",
      "The mean accuracy for the NB model is 78.93%\n"
     ]
    }
   ],
   "source": [
    "accuracies = []\n",
    "for i in range(5):\n",
    "    shuffled_df = (dseng_df[['Class','Location','Weather','TypeOfTrigger']]\n",
    "               .sample(frac = 1)\n",
    "               .reset_index()\n",
    "               .drop('index',axis = 1))\n",
    "    train_df = shuffled_df.loc[:int(ratio*len(shuffled_df))]\n",
    "    test_df = shuffled_df.loc[int(ratio*len(shuffled_df)):]\n",
    "    \n",
    "    X_test = test_df[['Location','Weather','TypeOfTrigger']].values\n",
    "    y_test = test_df[['Class']].values\n",
    "    \n",
    "    class_prob, conditional_prob = train_naive_bayes(train_df, class_labels, feature_labels)\n",
    "    \n",
    "    y_predicted = predict_labels(X_test, class_prob, conditional_prob)\n",
    "\n",
    "    accuracy = (y_predicted == y_test).sum()/len(y_test)*100\n",
    "\n",
    "    accuracies.append(accuracy)\n",
    "print('The percentage accuracies for random splits of test data are \\n{}'.format(accuracies))\n",
    "print('The mean accuracy for the NB model is {:.2f}%'.format(np.mean(accuracies)))"
   ]
  },
  {
   "cell_type": "markdown",
   "metadata": {},
   "source": [
    "## 3.6 Is the NB model doing better than chance? Explain."
   ]
  },
  {
   "cell_type": "markdown",
   "metadata": {},
   "source": [
    "Average accuracy of Naïve Bayes model is around 78 percent, so it classifies roughly 78 percent data correctly.\n",
    "If we were to leave the class assignment to chance, the number of correct classifications we could have obtained would be Expectation value, which is 33.3% (probability of correct classification = 1/3).\n",
    "Hence, the Naïve Bayes model definitely performs better than simple guessing."
   ]
  },
  {
   "cell_type": "markdown",
   "metadata": {},
   "source": [
    "## 3.7 What are the assumptions in NB in context of this problem? Are they realistic? Explain.\n",
    "The main assumption is that the features used for classification - Location, Weather and Type of Trigger - are independent of each other given the class.\n",
    "$$p({x_i}|{x_{i + 1}},{x_{i + 2}},..,{x_n},{C_k}) = p({x_i}|{C_k})$$"
   ]
  },
  {
   "cell_type": "markdown",
   "metadata": {},
   "source": [
    "## 3.8 Based on your answer to Part 7, comment on whether any improvements can be gained in classification accuracy. If yes, how?"
   ]
  },
  {
   "cell_type": "markdown",
   "metadata": {},
   "source": [
    "Possible improvements are:\n",
    "\n",
    "(1) Trying to incorporate more features into the classification study and then applying the Naïve Bayes model\n",
    "\n",
    "(2) Discarding the assumption that the features are independent, and constructing a Bayesian network to better understand the impact of one feature on another\n"
   ]
  },
  {
   "cell_type": "markdown",
   "metadata": {},
   "source": [
    "# Other Insights"
   ]
  },
  {
   "cell_type": "markdown",
   "metadata": {},
   "source": [
    "### 1. Effect of Location Feature on the NB Model accuracy"
   ]
  },
  {
   "cell_type": "code",
   "execution_count": 34,
   "metadata": {},
   "outputs": [
    {
     "name": "stdout",
     "output_type": "stream",
     "text": [
      "The accuracy of the model without considering Location feature is 77.56 %\n"
     ]
    }
   ],
   "source": [
    "X_test_new = X_test[:,[1,2]]\n",
    "y_predicted_new = predict_labels(X_test_new, class_prob, conditional_prob)\n",
    "accuracy_new = (y_predicted_new == y_test).sum()/len(y_test)*100\n",
    "print('The accuracy of the model without considering Location feature is {:.2f} %'.format(accuracy_new))"
   ]
  },
  {
   "cell_type": "code",
   "execution_count": 35,
   "metadata": {},
   "outputs": [
    {
     "data": {
      "text/html": [
       "<div>\n",
       "<style scoped>\n",
       "    .dataframe tbody tr th:only-of-type {\n",
       "        vertical-align: middle;\n",
       "    }\n",
       "\n",
       "    .dataframe tbody tr th {\n",
       "        vertical-align: top;\n",
       "    }\n",
       "\n",
       "    .dataframe thead th {\n",
       "        text-align: right;\n",
       "    }\n",
       "</style>\n",
       "<table border=\"1\" class=\"dataframe\">\n",
       "  <thead>\n",
       "    <tr style=\"text-align: right;\">\n",
       "      <th></th>\n",
       "      <th>Month</th>\n",
       "      <th>Car</th>\n",
       "      <th>Location</th>\n",
       "      <th>Weather</th>\n",
       "      <th>TypeOfTrigger</th>\n",
       "      <th>ReactionTime</th>\n",
       "      <th>Cause</th>\n",
       "      <th>Month_actual</th>\n",
       "      <th>Class</th>\n",
       "    </tr>\n",
       "  </thead>\n",
       "  <tbody>\n",
       "    <tr>\n",
       "      <th>326</th>\n",
       "      <td>14-Nov</td>\n",
       "      <td>WDD2221851A001072</td>\n",
       "      <td>highway</td>\n",
       "      <td>cloudy</td>\n",
       "      <td>automatic</td>\n",
       "      <td>1.48</td>\n",
       "      <td>Hardware Fault</td>\n",
       "      <td>Nov</td>\n",
       "      <td>Computer System</td>\n",
       "    </tr>\n",
       "    <tr>\n",
       "      <th>418</th>\n",
       "      <td>14-Dec</td>\n",
       "      <td>WDD2221851A001072</td>\n",
       "      <td>highway</td>\n",
       "      <td>clear</td>\n",
       "      <td>manual</td>\n",
       "      <td>NaN</td>\n",
       "      <td>Software Froze</td>\n",
       "      <td>Dec</td>\n",
       "      <td>Computer System</td>\n",
       "    </tr>\n",
       "    <tr>\n",
       "      <th>421</th>\n",
       "      <td>14-Dec</td>\n",
       "      <td>WDD2221851A001072</td>\n",
       "      <td>highway</td>\n",
       "      <td>clear</td>\n",
       "      <td>manual</td>\n",
       "      <td>NaN</td>\n",
       "      <td>Software Froze</td>\n",
       "      <td>Dec</td>\n",
       "      <td>Computer System</td>\n",
       "    </tr>\n",
       "    <tr>\n",
       "      <th>449</th>\n",
       "      <td>15-Jan</td>\n",
       "      <td>WDD2221851A001072</td>\n",
       "      <td>highway</td>\n",
       "      <td>clear</td>\n",
       "      <td>manual</td>\n",
       "      <td>NaN</td>\n",
       "      <td>Hardware Fault</td>\n",
       "      <td>Jan</td>\n",
       "      <td>Computer System</td>\n",
       "    </tr>\n",
       "    <tr>\n",
       "      <th>550</th>\n",
       "      <td>15-Mar</td>\n",
       "      <td>WDD2221851A001072</td>\n",
       "      <td>highway</td>\n",
       "      <td>cloudy</td>\n",
       "      <td>manual</td>\n",
       "      <td>NaN</td>\n",
       "      <td>Hardware Fault</td>\n",
       "      <td>Mar</td>\n",
       "      <td>Computer System</td>\n",
       "    </tr>\n",
       "    <tr>\n",
       "      <th>673</th>\n",
       "      <td>15-Jun</td>\n",
       "      <td>WDD2221851A001072</td>\n",
       "      <td>highway</td>\n",
       "      <td>cloudy</td>\n",
       "      <td>manual</td>\n",
       "      <td>NaN</td>\n",
       "      <td>Hardware Fault</td>\n",
       "      <td>Jun</td>\n",
       "      <td>Computer System</td>\n",
       "    </tr>\n",
       "    <tr>\n",
       "      <th>689</th>\n",
       "      <td>15-Jun</td>\n",
       "      <td>WDD2221851A001072</td>\n",
       "      <td>highway</td>\n",
       "      <td>cloudy</td>\n",
       "      <td>manual</td>\n",
       "      <td>NaN</td>\n",
       "      <td>Hardware Fault</td>\n",
       "      <td>Jun</td>\n",
       "      <td>Computer System</td>\n",
       "    </tr>\n",
       "    <tr>\n",
       "      <th>698</th>\n",
       "      <td>15-Jun</td>\n",
       "      <td>WDD2221851A001072</td>\n",
       "      <td>highway</td>\n",
       "      <td>cloudy</td>\n",
       "      <td>manual</td>\n",
       "      <td>NaN</td>\n",
       "      <td>Software Froze</td>\n",
       "      <td>Jun</td>\n",
       "      <td>Computer System</td>\n",
       "    </tr>\n",
       "    <tr>\n",
       "      <th>701</th>\n",
       "      <td>15-Jun</td>\n",
       "      <td>WDD2221851A001072</td>\n",
       "      <td>highway</td>\n",
       "      <td>cloudy</td>\n",
       "      <td>manual</td>\n",
       "      <td>NaN</td>\n",
       "      <td>Software Froze</td>\n",
       "      <td>Jun</td>\n",
       "      <td>Computer System</td>\n",
       "    </tr>\n",
       "    <tr>\n",
       "      <th>713</th>\n",
       "      <td>15-Jun</td>\n",
       "      <td>WDD2221851A001072</td>\n",
       "      <td>highway</td>\n",
       "      <td>cloudy</td>\n",
       "      <td>manual</td>\n",
       "      <td>NaN</td>\n",
       "      <td>System Tuning and Calibration</td>\n",
       "      <td>Jun</td>\n",
       "      <td>Computer System</td>\n",
       "    </tr>\n",
       "    <tr>\n",
       "      <th>749</th>\n",
       "      <td>15-Jun</td>\n",
       "      <td>WDD2221851A001072</td>\n",
       "      <td>highway</td>\n",
       "      <td>cloudy</td>\n",
       "      <td>manual</td>\n",
       "      <td>NaN</td>\n",
       "      <td>Software Froze</td>\n",
       "      <td>Jun</td>\n",
       "      <td>Computer System</td>\n",
       "    </tr>\n",
       "    <tr>\n",
       "      <th>757</th>\n",
       "      <td>15-Jun</td>\n",
       "      <td>WDD2221851A001072</td>\n",
       "      <td>highway</td>\n",
       "      <td>cloudy</td>\n",
       "      <td>manual</td>\n",
       "      <td>NaN</td>\n",
       "      <td>Hardware Fault</td>\n",
       "      <td>Jun</td>\n",
       "      <td>Computer System</td>\n",
       "    </tr>\n",
       "    <tr>\n",
       "      <th>836</th>\n",
       "      <td>15-Jul</td>\n",
       "      <td>WDD2221851A001072</td>\n",
       "      <td>highway</td>\n",
       "      <td>cloudy</td>\n",
       "      <td>manual</td>\n",
       "      <td>NaN</td>\n",
       "      <td>Software Froze</td>\n",
       "      <td>Jul</td>\n",
       "      <td>Computer System</td>\n",
       "    </tr>\n",
       "    <tr>\n",
       "      <th>853</th>\n",
       "      <td>15-Jul</td>\n",
       "      <td>WDD2221851A001072</td>\n",
       "      <td>highway</td>\n",
       "      <td>cloudy</td>\n",
       "      <td>manual</td>\n",
       "      <td>NaN</td>\n",
       "      <td>System Tuning and Calibration</td>\n",
       "      <td>Jul</td>\n",
       "      <td>Computer System</td>\n",
       "    </tr>\n",
       "    <tr>\n",
       "      <th>868</th>\n",
       "      <td>15-Aug</td>\n",
       "      <td>WDD2221851A001072</td>\n",
       "      <td>highway</td>\n",
       "      <td>cloudy</td>\n",
       "      <td>manual</td>\n",
       "      <td>NaN</td>\n",
       "      <td>System Tuning and Calibration</td>\n",
       "      <td>Aug</td>\n",
       "      <td>Computer System</td>\n",
       "    </tr>\n",
       "    <tr>\n",
       "      <th>906</th>\n",
       "      <td>15-Sep</td>\n",
       "      <td>WDD2221851A001072</td>\n",
       "      <td>highway</td>\n",
       "      <td>cloudy</td>\n",
       "      <td>manual</td>\n",
       "      <td>NaN</td>\n",
       "      <td>System Tuning and Calibration</td>\n",
       "      <td>Sep</td>\n",
       "      <td>Computer System</td>\n",
       "    </tr>\n",
       "    <tr>\n",
       "      <th>932</th>\n",
       "      <td>15-Oct</td>\n",
       "      <td>WDD2221851A001072</td>\n",
       "      <td>highway</td>\n",
       "      <td>cloudy</td>\n",
       "      <td>manual</td>\n",
       "      <td>NaN</td>\n",
       "      <td>Hardware Fault</td>\n",
       "      <td>Oct</td>\n",
       "      <td>Computer System</td>\n",
       "    </tr>\n",
       "    <tr>\n",
       "      <th>980</th>\n",
       "      <td>14-Nov</td>\n",
       "      <td>WDD2221851A000495</td>\n",
       "      <td>highway</td>\n",
       "      <td>cloudy</td>\n",
       "      <td>manual</td>\n",
       "      <td>NaN</td>\n",
       "      <td>Hardware Fault</td>\n",
       "      <td>Nov</td>\n",
       "      <td>Computer System</td>\n",
       "    </tr>\n",
       "    <tr>\n",
       "      <th>990</th>\n",
       "      <td>14-Nov</td>\n",
       "      <td>WDD2221851A000495</td>\n",
       "      <td>highway</td>\n",
       "      <td>cloudy</td>\n",
       "      <td>manual</td>\n",
       "      <td>NaN</td>\n",
       "      <td>Hardware Fault</td>\n",
       "      <td>Nov</td>\n",
       "      <td>Computer System</td>\n",
       "    </tr>\n",
       "    <tr>\n",
       "      <th>1021</th>\n",
       "      <td>14-Nov</td>\n",
       "      <td>WDD2221851A000495</td>\n",
       "      <td>highway</td>\n",
       "      <td>clear</td>\n",
       "      <td>manual</td>\n",
       "      <td>NaN</td>\n",
       "      <td>System Tuning and Calibration</td>\n",
       "      <td>Nov</td>\n",
       "      <td>Computer System</td>\n",
       "    </tr>\n",
       "  </tbody>\n",
       "</table>\n",
       "</div>"
      ],
      "text/plain": [
       "       Month                Car Location Weather TypeOfTrigger  ReactionTime  \\\n",
       "326   14-Nov  WDD2221851A001072  highway  cloudy     automatic          1.48   \n",
       "418   14-Dec  WDD2221851A001072  highway   clear        manual           NaN   \n",
       "421   14-Dec  WDD2221851A001072  highway   clear        manual           NaN   \n",
       "449   15-Jan  WDD2221851A001072  highway   clear        manual           NaN   \n",
       "550   15-Mar  WDD2221851A001072  highway  cloudy        manual           NaN   \n",
       "673   15-Jun  WDD2221851A001072  highway  cloudy        manual           NaN   \n",
       "689   15-Jun  WDD2221851A001072  highway  cloudy        manual           NaN   \n",
       "698   15-Jun  WDD2221851A001072  highway  cloudy        manual           NaN   \n",
       "701   15-Jun  WDD2221851A001072  highway  cloudy        manual           NaN   \n",
       "713   15-Jun  WDD2221851A001072  highway  cloudy        manual           NaN   \n",
       "749   15-Jun  WDD2221851A001072  highway  cloudy        manual           NaN   \n",
       "757   15-Jun  WDD2221851A001072  highway  cloudy        manual           NaN   \n",
       "836   15-Jul  WDD2221851A001072  highway  cloudy        manual           NaN   \n",
       "853   15-Jul  WDD2221851A001072  highway  cloudy        manual           NaN   \n",
       "868   15-Aug  WDD2221851A001072  highway  cloudy        manual           NaN   \n",
       "906   15-Sep  WDD2221851A001072  highway  cloudy        manual           NaN   \n",
       "932   15-Oct  WDD2221851A001072  highway  cloudy        manual           NaN   \n",
       "980   14-Nov  WDD2221851A000495  highway  cloudy        manual           NaN   \n",
       "990   14-Nov  WDD2221851A000495  highway  cloudy        manual           NaN   \n",
       "1021  14-Nov  WDD2221851A000495  highway   clear        manual           NaN   \n",
       "\n",
       "                              Cause Month_actual            Class  \n",
       "326                  Hardware Fault          Nov  Computer System  \n",
       "418                  Software Froze          Dec  Computer System  \n",
       "421                  Software Froze          Dec  Computer System  \n",
       "449                  Hardware Fault          Jan  Computer System  \n",
       "550                  Hardware Fault          Mar  Computer System  \n",
       "673                  Hardware Fault          Jun  Computer System  \n",
       "689                  Hardware Fault          Jun  Computer System  \n",
       "698                  Software Froze          Jun  Computer System  \n",
       "701                  Software Froze          Jun  Computer System  \n",
       "713   System Tuning and Calibration          Jun  Computer System  \n",
       "749                  Software Froze          Jun  Computer System  \n",
       "757                  Hardware Fault          Jun  Computer System  \n",
       "836                  Software Froze          Jul  Computer System  \n",
       "853   System Tuning and Calibration          Jul  Computer System  \n",
       "868   System Tuning and Calibration          Aug  Computer System  \n",
       "906   System Tuning and Calibration          Sep  Computer System  \n",
       "932                  Hardware Fault          Oct  Computer System  \n",
       "980                  Hardware Fault          Nov  Computer System  \n",
       "990                  Hardware Fault          Nov  Computer System  \n",
       "1021  System Tuning and Calibration          Nov  Computer System  "
      ]
     },
     "execution_count": 35,
     "metadata": {},
     "output_type": "execute_result"
    }
   ],
   "source": [
    "dseng_df[dseng_df['Location']=='highway']"
   ]
  },
  {
   "cell_type": "markdown",
   "metadata": {},
   "source": [
    "Very clearly, for 'Location' = 'highway', the TypeOfTrigger is almost always 'manual'. Also, the number of highway disengagements is very small compared to the number of urban disengagements. In turn, looking at the CPT, we see that the locations have little to no effect on the classification (the probabilities for each class are ~ [1,0]).\n",
    "\n",
    "We thus tried to perform the classifications parsing the Location feature. **The accuracy remained almost unchanged**!"
   ]
  },
  {
   "cell_type": "markdown",
   "metadata": {},
   "source": [
    "### 2. Visualization of Task 2.7"
   ]
  },
  {
   "cell_type": "markdown",
   "metadata": {},
   "source": [
    "In Task 2.7, we performed a two-sample Kolmogorov-Smirnov test and concluded that the reaction times for both cloudy and clear weathers may be drawn from the same underlying continuous distribution. We tried to visualize this for intuition and the plot is shown below. The best Exponentiated Weibull fits for both reaction times (almost) overlap which visually supports our conclusion."
   ]
  },
  {
   "cell_type": "code",
   "execution_count": 36,
   "metadata": {},
   "outputs": [
    {
     "data": {
      "image/png": "[encoded data removed]",
      "text/plain": [
       "<Figure size 576x432 with 1 Axes>"
      ]
     },
     "metadata": {
      "needs_background": "light"
     },
     "output_type": "display_data"
    }
   ],
   "source": [
    "cloudy_rxntime = dseng_df[dseng_df['Weather']=='cloudy']['ReactionTime'].dropna()\n",
    "clear_rxntime = dseng_df[dseng_df['Weather']=='clear']['ReactionTime'].dropna()\n",
    "\n",
    "plt.figure(figsize=(8,6))\n",
    "sns.distplot(cloudy_rxntime, kde=False, fit=st.exponweib, bins=90, label = 'cloudy reaction times', hist_kws={\"linewidth\": 3,\n",
    "                            \"alpha\": 0.6, \"color\": \"green\"})\n",
    "sns.distplot(clear_rxntime, kde=False, fit=st.exponweib, bins=90, label = 'clear reaction times', hist_kws={\"histtype\": \"step\", \"linewidth\": 3,\n",
    "                            \"alpha\": 1, \"color\": \"red\"})\n",
    "plt.xlim([0,7.5])\n",
    "plt.ylabel('PDF')\n",
    "plt.xlabel('Reaction Time (s)')\n",
    "plt.title('Exponentiated Weibull fits for Cloudy and Clear Weather Reaction Times')\n",
    "plt.legend()\n",
    "plt.show()"
   ]
  }
 ],
 "metadata": {
  "kernelspec": {
   "display_name": "Python 3",
   "language": "python",
   "name": "python3"
  },
  "language_info": {
   "codemirror_mode": {
    "name": "ipython",
    "version": 3
   },
   "file_extension": ".py",
   "mimetype": "text/x-python",
   "name": "python",
   "nbconvert_exporter": "python",
   "pygments_lexer": "ipython3",
   "version": "3.7.4"
  }
 },
 "nbformat": 4,
 "nbformat_minor": 2
}
