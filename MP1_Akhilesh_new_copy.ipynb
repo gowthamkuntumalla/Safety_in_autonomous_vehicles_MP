{
 "cells": [
  {
   "cell_type": "markdown",
   "metadata": {},
   "source": [
    " # MP1 - ECE 498:  Data Science & Analytics\n",
    " \n",
    " \n",
    " # Group members (NetIDs): \n",
    "    \n",
    " ##   Akhilesh Somani (somani4)\n",
    " ##   Gowtham Kuntumalla (gowtham4)\n",
    " ##   Manan Mehta (mananm2)"
   ]
  },
  {
   "cell_type": "code",
   "execution_count": 1,
   "metadata": {},
   "outputs": [],
   "source": [
    "import pandas as pd \n",
    "import seaborn as sns\n",
    "import numpy as np  \n",
    "from datetime import datetime\n",
    "from scipy import stats as st\n",
    "import math\n",
    "from sklearn import datasets\n",
    "from sklearn.model_selection import train_test_split\n",
    "\n",
    "# to handle file imports for different OS\n",
    "import os\n",
    "from pathlib import Path "
   ]
  },
  {
   "cell_type": "markdown",
   "metadata": {},
   "source": [
    "# ----------------------------- Task 0 -----------------------------"
   ]
  },
  {
   "cell_type": "code",
   "execution_count": 2,
   "metadata": {},
   "outputs": [],
   "source": [
    "folder = Path(os.getcwd())\n",
    "file1 = folder / 'mp1_av_disengagements.csv'\n",
    "file2 = folder / 'mp1_av_totalmiles.csv'\n",
    "dseng_df = pd.read_csv(file1)\n",
    "summary_month_df = pd.read_csv(file2)\n",
    "\n",
    "# make number of months unique by combining different cars\n",
    "summary_month_df = summary_month_df.groupby('Month',sort=False, as_index = False).sum()\n"
   ]
  },
  {
   "cell_type": "code",
   "execution_count": 3,
   "metadata": {},
   "outputs": [
    {
     "data": {
      "text/html": [
       "<div>\n",
       "<style scoped>\n",
       "    .dataframe tbody tr th:only-of-type {\n",
       "        vertical-align: middle;\n",
       "    }\n",
       "\n",
       "    .dataframe tbody tr th {\n",
       "        vertical-align: top;\n",
       "    }\n",
       "\n",
       "    .dataframe thead th {\n",
       "        text-align: right;\n",
       "    }\n",
       "</style>\n",
       "<table border=\"1\" class=\"dataframe\">\n",
       "  <thead>\n",
       "    <tr style=\"text-align: right;\">\n",
       "      <th></th>\n",
       "      <th>Month</th>\n",
       "      <th>Car</th>\n",
       "      <th>Location</th>\n",
       "      <th>Weather</th>\n",
       "      <th>TypeOfTrigger</th>\n",
       "      <th>ReactionTime</th>\n",
       "      <th>Cause</th>\n",
       "    </tr>\n",
       "  </thead>\n",
       "  <tbody>\n",
       "    <tr>\n",
       "      <th>0</th>\n",
       "      <td>14-Sep</td>\n",
       "      <td>WDD2221851A001072</td>\n",
       "      <td>urban-street</td>\n",
       "      <td>cloudy</td>\n",
       "      <td>automatic</td>\n",
       "      <td>0.58</td>\n",
       "      <td>Incorrect Traffic Light Detection</td>\n",
       "    </tr>\n",
       "    <tr>\n",
       "      <th>1</th>\n",
       "      <td>14-Sep</td>\n",
       "      <td>WDD2221851A001072</td>\n",
       "      <td>urban-street</td>\n",
       "      <td>cloudy</td>\n",
       "      <td>automatic</td>\n",
       "      <td>0.66</td>\n",
       "      <td>Adverse road surface conditions</td>\n",
       "    </tr>\n",
       "    <tr>\n",
       "      <th>2</th>\n",
       "      <td>14-Sep</td>\n",
       "      <td>WDD2221851A001072</td>\n",
       "      <td>urban-street</td>\n",
       "      <td>cloudy</td>\n",
       "      <td>automatic</td>\n",
       "      <td>1.93</td>\n",
       "      <td>Position Estimation Failure</td>\n",
       "    </tr>\n",
       "    <tr>\n",
       "      <th>3</th>\n",
       "      <td>14-Sep</td>\n",
       "      <td>WDD2221851A001072</td>\n",
       "      <td>urban-street</td>\n",
       "      <td>cloudy</td>\n",
       "      <td>automatic</td>\n",
       "      <td>0.65</td>\n",
       "      <td>Emergency Vehicle</td>\n",
       "    </tr>\n",
       "    <tr>\n",
       "      <th>4</th>\n",
       "      <td>14-Sep</td>\n",
       "      <td>WDD2221851A001072</td>\n",
       "      <td>urban-street</td>\n",
       "      <td>cloudy</td>\n",
       "      <td>automatic</td>\n",
       "      <td>0.64</td>\n",
       "      <td>Adverse road surface conditions</td>\n",
       "    </tr>\n",
       "  </tbody>\n",
       "</table>\n",
       "</div>"
      ],
      "text/plain": [
       "    Month                Car      Location Weather TypeOfTrigger  \\\n",
       "0  14-Sep  WDD2221851A001072  urban-street  cloudy     automatic   \n",
       "1  14-Sep  WDD2221851A001072  urban-street  cloudy     automatic   \n",
       "2  14-Sep  WDD2221851A001072  urban-street  cloudy     automatic   \n",
       "3  14-Sep  WDD2221851A001072  urban-street  cloudy     automatic   \n",
       "4  14-Sep  WDD2221851A001072  urban-street  cloudy     automatic   \n",
       "\n",
       "   ReactionTime                              Cause  \n",
       "0          0.58  Incorrect Traffic Light Detection  \n",
       "1          0.66    Adverse road surface conditions  \n",
       "2          1.93        Position Estimation Failure  \n",
       "3          0.65                  Emergency Vehicle  \n",
       "4          0.64    Adverse road surface conditions  "
      ]
     },
     "execution_count": 3,
     "metadata": {},
     "output_type": "execute_result"
    }
   ],
   "source": [
    "dseng_df.head()"
   ]
  },
  {
   "cell_type": "code",
   "execution_count": 4,
   "metadata": {},
   "outputs": [
    {
     "data": {
      "text/html": [
       "<div>\n",
       "<style scoped>\n",
       "    .dataframe tbody tr th:only-of-type {\n",
       "        vertical-align: middle;\n",
       "    }\n",
       "\n",
       "    .dataframe tbody tr th {\n",
       "        vertical-align: top;\n",
       "    }\n",
       "\n",
       "    .dataframe thead th {\n",
       "        text-align: right;\n",
       "    }\n",
       "</style>\n",
       "<table border=\"1\" class=\"dataframe\">\n",
       "  <thead>\n",
       "    <tr style=\"text-align: right;\">\n",
       "      <th></th>\n",
       "      <th>Month</th>\n",
       "      <th>miles driven in autonomous mode</th>\n",
       "      <th>total number of disengagements</th>\n",
       "      <th>number of automatic disengagements</th>\n",
       "      <th>number of manual disengagements</th>\n",
       "    </tr>\n",
       "  </thead>\n",
       "  <tbody>\n",
       "    <tr>\n",
       "      <th>0</th>\n",
       "      <td>14-Sep</td>\n",
       "      <td>4207</td>\n",
       "      <td>44</td>\n",
       "      <td>24</td>\n",
       "      <td>20</td>\n",
       "    </tr>\n",
       "    <tr>\n",
       "      <th>1</th>\n",
       "      <td>14-Oct</td>\n",
       "      <td>61881</td>\n",
       "      <td>244</td>\n",
       "      <td>111</td>\n",
       "      <td>133</td>\n",
       "    </tr>\n",
       "    <tr>\n",
       "      <th>2</th>\n",
       "      <td>14-Nov</td>\n",
       "      <td>58824</td>\n",
       "      <td>189</td>\n",
       "      <td>85</td>\n",
       "      <td>104</td>\n",
       "    </tr>\n",
       "    <tr>\n",
       "      <th>3</th>\n",
       "      <td>14-Dec</td>\n",
       "      <td>9413</td>\n",
       "      <td>36</td>\n",
       "      <td>15</td>\n",
       "      <td>21</td>\n",
       "    </tr>\n",
       "    <tr>\n",
       "      <th>4</th>\n",
       "      <td>15-Jan</td>\n",
       "      <td>18192</td>\n",
       "      <td>48</td>\n",
       "      <td>18</td>\n",
       "      <td>30</td>\n",
       "    </tr>\n",
       "  </tbody>\n",
       "</table>\n",
       "</div>"
      ],
      "text/plain": [
       "    Month  miles driven in autonomous mode  total number of disengagements  \\\n",
       "0  14-Sep                             4207                              44   \n",
       "1  14-Oct                            61881                             244   \n",
       "2  14-Nov                            58824                             189   \n",
       "3  14-Dec                             9413                              36   \n",
       "4  15-Jan                            18192                              48   \n",
       "\n",
       "   number of automatic disengagements  number of manual disengagements  \n",
       "0                                  24                               20  \n",
       "1                                 111                              133  \n",
       "2                                  85                              104  \n",
       "3                                  15                               21  \n",
       "4                                  18                               30  "
      ]
     },
     "execution_count": 4,
     "metadata": {},
     "output_type": "execute_result"
    }
   ],
   "source": [
    "summary_month_df.head()"
   ]
  },
  {
   "cell_type": "markdown",
   "metadata": {},
   "source": [
    "### 0.2 (a) Total number of AV disengagements: 1024"
   ]
  },
  {
   "cell_type": "code",
   "execution_count": 5,
   "metadata": {},
   "outputs": [
    {
     "data": {
      "text/plain": [
       "Month            1024\n",
       "Car              1024\n",
       "Location         1024\n",
       "Weather          1024\n",
       "TypeOfTrigger    1024\n",
       "ReactionTime      492\n",
       "Cause            1024\n",
       "dtype: int64"
      ]
     },
     "execution_count": 5,
     "metadata": {},
     "output_type": "execute_result"
    }
   ],
   "source": [
    "dseng_df.count()"
   ]
  },
  {
   "cell_type": "markdown",
   "metadata": {},
   "source": [
    "### 0.2 (b) Number of unique months that have recorded AV disengagements: 15"
   ]
  },
  {
   "cell_type": "code",
   "execution_count": 6,
   "metadata": {
    "scrolled": true
   },
   "outputs": [],
   "source": [
    "dseng_df['Month_actual'] = dseng_df['Month'].apply(lambda x:x.split(\"-\")[1])"
   ]
  },
  {
   "cell_type": "code",
   "execution_count": 7,
   "metadata": {},
   "outputs": [
    {
     "data": {
      "text/plain": [
       "15"
      ]
     },
     "execution_count": 7,
     "metadata": {},
     "output_type": "execute_result"
    }
   ],
   "source": [
    "dseng_df['Month'].nunique()"
   ]
  },
  {
   "cell_type": "markdown",
   "metadata": {},
   "source": [
    "### 0.2 (c) List of unique locations of AV disengagements: 2"
   ]
  },
  {
   "cell_type": "code",
   "execution_count": 8,
   "metadata": {},
   "outputs": [
    {
     "data": {
      "text/plain": [
       "2"
      ]
     },
     "execution_count": 8,
     "metadata": {},
     "output_type": "execute_result"
    }
   ],
   "source": [
    "dseng_df['Location'].nunique()"
   ]
  },
  {
   "cell_type": "markdown",
   "metadata": {},
   "source": [
    "### 0.2 (d) Number of unique causes for AV disengagements: 10 "
   ]
  },
  {
   "cell_type": "code",
   "execution_count": 9,
   "metadata": {},
   "outputs": [
    {
     "data": {
      "text/plain": [
       "10"
      ]
     },
     "execution_count": 9,
     "metadata": {},
     "output_type": "execute_result"
    }
   ],
   "source": [
    "dseng_df['Cause'].nunique()"
   ]
  },
  {
   "cell_type": "markdown",
   "metadata": {},
   "source": [
    "### 0.2 (e) ReactionTime has 532 missing values because Manual Trigger"
   ]
  },
  {
   "cell_type": "code",
   "execution_count": 10,
   "metadata": {},
   "outputs": [
    {
     "data": {
      "text/plain": [
       "Month              0\n",
       "Car                0\n",
       "Location           0\n",
       "Weather            0\n",
       "TypeOfTrigger      0\n",
       "ReactionTime     532\n",
       "Cause              0\n",
       "Month_actual       0\n",
       "dtype: int64"
      ]
     },
     "execution_count": 10,
     "metadata": {},
     "output_type": "execute_result"
    }
   ],
   "source": [
    "dseng_df.isnull().sum()"
   ]
  },
  {
   "cell_type": "markdown",
   "metadata": {},
   "source": [
    "### 0.3 The top two leading causes of disengagement: Recklessly behaving agent and Unwanted Driver Discomfort"
   ]
  },
  {
   "cell_type": "code",
   "execution_count": 11,
   "metadata": {},
   "outputs": [
    {
     "data": {
      "image/png": "[encoded data removed]",
      "text/plain": [
       "<Figure size 864x576 with 1 Axes>"
      ]
     },
     "metadata": {},
     "output_type": "display_data"
    }
   ],
   "source": [
    "import matplotlib\n",
    "import matplotlib.pyplot as plt\n",
    "matplotlib.rcParams['figure.figsize'] = [12.0, 8.0]\n",
    "import matplotlib as mpl\n",
    "mpl.rcParams['font.size'] = 20.0\n",
    "\n",
    "causes = dseng_df['Cause'].value_counts()\n",
    "causes = causes[causes>10]\n",
    "patches, texts, _ = plt.pie(causes, \n",
    "        # grab labels from frame keys\n",
    "        labels=causes.keys(),\n",
    "        # some formatting\n",
    "        autopct='%.0f%%', shadow=True)\n",
    "#plt.legend(patches, labels=causes.keys(), bbox_to_anchor=(0.85,1.025),loc=\"upper left\")\n",
    "#plt.axis('equal')\n",
    "plt.show()"
   ]
  },
  {
   "cell_type": "markdown",
   "metadata": {},
   "source": [
    "### 0.4 AVs are indeed maturing over time"
   ]
  },
  {
   "cell_type": "code",
   "execution_count": 12,
   "metadata": {},
   "outputs": [
    {
     "data": {
      "image/png": "[encoded data removed]",
      "text/plain": [
       "<Figure size 864x576 with 1 Axes>"
      ]
     },
     "metadata": {
      "needs_background": "light"
     },
     "output_type": "display_data"
    }
   ],
   "source": [
    "#disengagement/mile\n",
    "summary_month_df['total disengagements per mile'] = summary_month_df['total number of disengagements']\\\n",
    "/summary_month_df['miles driven in autonomous mode']\n",
    "\n",
    "#print(summary_month_df['total disengagement per mile'])\n",
    "\n",
    "summary_month_df.iloc[:15,:].plot(x = 'Month',y = 'total disengagements per mile')\n",
    "plt.xlabel('Month')\n",
    "plt.ylabel('# disengagements/mile')\n",
    "plt.title('Car 1')\n",
    "plt.show()"
   ]
  },
  {
   "cell_type": "markdown",
   "metadata": {},
   "source": [
    "# ----------------------------- Task 1 -----------------------------"
   ]
  },
  {
   "cell_type": "markdown",
   "metadata": {},
   "source": [
    "### 1.1 Various distributions:\n",
    "\n",
    "#### a. Gaussian distribution : \n",
    "Also called normal distribution, samples drawn from it follow the general distribution which is given by \n",
    "$$ {\\ f(x)={\\frac {1}{\\sigma {\\sqrt {2\\pi }}}}e^{-{\\frac {1}{2}}\\left({\\frac {x-\\mu }{\\sigma }}\\right)^{2}}} $$\n",
    "\n",
    "Samples drawn are likely to be close to the mean. and those far away are less likely.\n",
    "\n",
    "#### b. Exponential distribution:\n",
    "Here the general distribution is given by \n",
    "$$ f(x;\\lambda) = \\begin{cases}\n",
    "\\lambda e^{-\\lambda x} & x \\ge 0, \\\\\n",
    "0 & x < 0.\n",
    "\\end{cases} $$\n",
    "\n",
    "Samples drawn are likely to be close to Zero. Another key property is memorylessness. i.e. conditional probabability boils down to simple exponentials (only the time period matters not when it starts).\n",
    "\n",
    "#### c. Weibull distribution:\n",
    "\n",
    "Here the general distribution is given by \n",
    "$$ \n",
    "f(x;\\lambda,k) =\n",
    "\\begin{cases}\n",
    "\\frac{k}{\\lambda}\\left(\\frac{x}{\\lambda}\\right)^{k-1}e^{-(x/\\lambda)^{k}} & x\\geq0 ,\\\\\n",
    "0 & x<0,\n",
    "\\end{cases} $$\n",
    "\n",
    "It is a generalisation of standard exponential distribution (k = 1). \n",
    "\n",
    "If X = time-to-failure, then k < 1 indicates failure rate goes down as parts life increases, i.e. probaility that samples fail is very high when X is close to zero and then it decreases. Vice versa for k > 1.\n"
   ]
  },
  {
   "cell_type": "markdown",
   "metadata": {},
   "source": [
    "### 1.2 Reaction times of drivers"
   ]
  },
  {
   "cell_type": "code",
   "execution_count": 13,
   "metadata": {},
   "outputs": [
    {
     "name": "stdout",
     "output_type": "stream",
     "text": [
      "In Weibull distribution fit, k value is 0.3\n"
     ]
    },
    {
     "data": {
      "image/png": "[encoded data removed]",
      "text/plain": [
       "<Figure size 720x432 with 1 Axes>"
      ]
     },
     "metadata": {
      "needs_background": "light"
     },
     "output_type": "display_data"
    }
   ],
   "source": [
    "\n",
    "\"\"\" Actual PDF of reaction times using histograms \"\"\" \n",
    "plt.figure(figsize = (10,6))\n",
    "\n",
    "reaction_t = dseng_df['ReactionTime'].dropna()\n",
    "reaction_t.plot(kind='hist', bins  = 250, density = True, alpha=0.3, color = 'blue', label = 'Orig_data')\n",
    "\n",
    "\"\"\"fitting scikit-learn stats model  \"\"\" \n",
    "\n",
    "x_data = sorted(reaction_t)\n",
    "# normal\n",
    "mean, var = st.norm.fit(x_data)\n",
    "plt.plot(x_data, st.norm.pdf(x_data,mean,var), label = 'Normal')\n",
    "\n",
    "# exponential\n",
    "loc, scale = st.expon.fit(x_data)\n",
    "plt.plot(x_data, st.expon.pdf(x_data,loc, scale), label = 'Exponential')\n",
    "\n",
    "# weibull\n",
    "\n",
    "args = st.exponweib.fit(x_data)\n",
    "plt.plot(x_data, st.exponweib.pdf(x_data,*args), label = 'Weibull')\n",
    "print(\"In Weibull distribution fit, k value is {0}\".format(round(list(args)[1],2)))\n",
    "\n",
    "plt.xlabel('Reaction times (sec)')\n",
    "plt.ylabel('Frequency')\n",
    "plt.title('PDF of Reaction Times Normalized')\n",
    "plt.legend(frameon = False, loc = 'best')\n",
    "plt.show()\n",
    " "
   ]
  },
  {
   "cell_type": "markdown",
   "metadata": {},
   "source": [
    "### Observation: We see that the weibull distribution fits well. Parameter 'k' < 1 so the reaction times are largely populated in the beginning and go down with time."
   ]
  },
  {
   "cell_type": "markdown",
   "metadata": {},
   "source": [
    "### 1.3 Average Reaction Times"
   ]
  },
  {
   "cell_type": "code",
   "execution_count": 14,
   "metadata": {},
   "outputs": [
    {
     "name": "stdout",
     "output_type": "stream",
     "text": [
      "1.3(a) Average Reaction Time for entire data set = 0.93 sec \n",
      "\n",
      "\n",
      "1.3(b) Average Reaction Time (sec) by \n",
      "\n",
      "Location\n",
      "highway         1.48\n",
      "urban-street    0.93\n",
      "Name: ReactionTime, dtype: float64\n"
     ]
    }
   ],
   "source": [
    "print(\"1.3(a) Average Reaction Time for entire data set = {0} sec \\n\\n\".format(round(reaction_t.mean(),2)))\n",
    "\n",
    "print(\"1.3(b) Average Reaction Time (sec) by \\n\")\n",
    "print( round(dseng_df['ReactionTime'].groupby(dseng_df['Location']).mean(),2))\n"
   ]
  },
  {
   "cell_type": "markdown",
   "metadata": {},
   "source": [
    "### 1.4 Hypothesis testing of reaction times "
   ]
  },
  {
   "cell_type": "markdown",
   "metadata": {},
   "source": [
    "Define \n",
    "\n",
    "H0 : AV_mean = 1.09 sec\n",
    "\n",
    "H1 : AV_mean != 1.09 sec\n",
    "\n",
    "Significance level  = 0.05\n",
    "\n",
    "We will apply a two tail test asssuming H0 is true. We will test if 0.93 sec is in statistical limits of assumed population mean (= 1.09 sec)\n"
   ]
  },
  {
   "cell_type": "code",
   "execution_count": 15,
   "metadata": {},
   "outputs": [
    {
     "name": "stdout",
     "output_type": "stream",
     "text": [
      "Z-score (0.018) < 0.025 (two-tailed test) so we reject null hypothesis\n"
     ]
    }
   ],
   "source": [
    "std_AV_sample = reaction_t.std()\n",
    "mean_AV_sample = reaction_t.mean()\n",
    "mean_nonAV_pop = 1.09\n",
    "est_std_AV_pop = std_AV_sample/math.sqrt(dseng_df['ReactionTime'].dropna().count())\n",
    "z_stat = (mean_AV_sample - mean_nonAV_pop)/est_std_AV_pop\n",
    "\n",
    "z_score = st.norm.cdf(z_stat)\n",
    "\n",
    "print(\"Z-score ({0}) < 0.025 (two-tailed test) so we reject null hypothesis\".format(round(z_score,3)))\n"
   ]
  },
  {
   "cell_type": "markdown",
   "metadata": {},
   "source": [
    "### 1.5 PDF of Disengagements/mile with monthly granularity"
   ]
  },
  {
   "cell_type": "code",
   "execution_count": 16,
   "metadata": {},
   "outputs": [],
   "source": [
    "# This function was taken from an external source (stackoverflow) and edited to fit our code\n",
    "# https://stackoverflow.com/questions/37487830/how-to-find-probability-distribution-and-parameters-for-real-data-python-3\n",
    "\n",
    "def get_best_distribution(data, distributions):\n",
    "    results = []\n",
    "    parameters = {}\n",
    "    for distribution in distributions:\n",
    "        dist = getattr(st, distribution)\n",
    "        # fit the distribution and get parameters\n",
    "        parameter = dist.fit(data)\n",
    "        parameters[distribution] = parameter\n",
    "        \n",
    "        # Applying the Kolmogorov-Smirnov test\n",
    "        D, p = st.kstest(data, distribution, args=parameter)\n",
    "        results.append((distribution, p))\n",
    "\n",
    "    # select the best fitted distribution\n",
    "    best_distribution, best_p_value = (max(results, key = lambda item: item[1]))\n",
    "\n",
    "    print(\"Best fitting distribution: \" + str(best_distribution))\n",
    "    print(\"Best p value: \"+ str(best_p_value))\n",
    "    print(\"Parameters for the best fit: \"+ str(parameters[best_distribution]))\n",
    "\n",
    "    return best_distribution, best_p_value, parameters[best_distribution]"
   ]
  },
  {
   "cell_type": "code",
   "execution_count": 17,
   "metadata": {},
   "outputs": [
    {
     "data": {
      "image/png": "[encoded data removed]",
      "text/plain": [
       "<Figure size 864x576 with 1 Axes>"
      ]
     },
     "metadata": {
      "needs_background": "light"
     },
     "output_type": "display_data"
    },
    {
     "name": "stderr",
     "output_type": "stream",
     "text": [
      "C:\\ProgramData\\Anaconda3\\lib\\site-packages\\scipy\\stats\\_continuous_distns.py:1469: RuntimeWarning: invalid value encountered in add\n",
      "  negxc + sc.xlogy(c - 1.0, x))\n"
     ]
    },
    {
     "name": "stdout",
     "output_type": "stream",
     "text": [
      "Best fitting distribution: expon\n",
      "Best p value: 0.9806696005068393\n",
      "Parameters for the best fit: (0.0003605973188528763, 0.0021407886857360853)\n"
     ]
    },
    {
     "data": {
      "image/png": "[encoded data removed]",
      "text/plain": [
       "<Figure size 864x576 with 1 Axes>"
      ]
     },
     "metadata": {
      "needs_background": "light"
     },
     "output_type": "display_data"
    }
   ],
   "source": [
    "\n",
    "hist = summary_month_df['total disengagements per mile'].dropna().hist(bins = 10)\n",
    "plt.title('Probability Distribution of Disengagement/Mile')\n",
    "plt.xlabel('Disengagement/Mile')\n",
    "plt.ylabel('Frequency')\n",
    "plt.show()\n",
    "\n",
    "data_to_fit = summary_month_df['total disengagements per mile'].dropna()\n",
    "distributions = ['norm','expon','exponweib','weibull_min']\n",
    "best_distribution, best_p_value, parameters = get_best_distribution(data_to_fit, distributions)\n",
    "\n",
    "ax = sns.distplot(summary_month_df['total disengagements per mile'].dropna(), kde=False, fit=st.weibull_min, bins=10)\n",
    "plt.title('Weibull Fit')\n",
    "plt.xlabel('Disengagement/Mile')\n",
    "plt.ylabel('Frequency')\n",
    "plt.show()"
   ]
  },
  {
   "cell_type": "markdown",
   "metadata": {},
   "source": [
    "Weibull_min distribution fits well. We see that the number of # of\n",
    "Occurences of Disengagements/mile parameter goes down. \n",
    "(parameter k<1: Failure rate decreases over time)\n"
   ]
  },
  {
   "cell_type": "markdown",
   "metadata": {},
   "source": [
    "# ----------------------------- Task 2 -----------------------------"
   ]
  },
  {
   "cell_type": "markdown",
   "metadata": {},
   "source": [
    "### 2.1 Basic Probability"
   ]
  },
  {
   "cell_type": "markdown",
   "metadata": {},
   "source": [
    "Assumptions in mathematical form:\n",
    "\n",
    "\n",
    "1. **Random Variable:** X = disengagements per mile $\\in$ {0-no_diseng,1-diseng}  <br>\n",
    "2. **Conditions(C):** Clear - Cl, Cloudy - Cy <br>\n",
    "   P(C = Cl) = 0.72 & P(C = Cy) = 0.28 <br>\n",
    "3. AV drives equally well on both types of days\n"
   ]
  },
  {
   "cell_type": "markdown",
   "metadata": {},
   "source": [
    "#### 2.1.a.  Random variable for each individual mile follows a **Bernoulli** distribution. A combination of multiple miles follows a **Binomial** distribution."
   ]
  },
  {
   "cell_type": "markdown",
   "metadata": {},
   "source": [
    "#### 2.1.b $$ P(X = 1 | C = Cy) = \\frac {P(C = Cy | X = 1) * P (X = 1)}{P(C = Cy)} $$"
   ]
  },
  {
   "cell_type": "code",
   "execution_count": 18,
   "metadata": {},
   "outputs": [],
   "source": [
    "dseng_month_df = dseng_df.groupby(['Month','Weather'], sort = False, as_index = False).count()\n",
    "\n",
    "#add clear and cloudy day miles in summary df\n",
    "summary_month_df['clear_day_miles'] = summary_month_df['miles driven in autonomous mode'] * 0.72\n",
    "summary_month_df['cloudy_day_miles'] = summary_month_df['miles driven in autonomous mode'] * 0.28\n",
    "summary_month_df.index = summary_month_df['Month']\n",
    "\n"
   ]
  },
  {
   "cell_type": "code",
   "execution_count": 19,
   "metadata": {},
   "outputs": [
    {
     "name": "stdout",
     "output_type": "stream",
     "text": [
      "Probability of disengagement per mile on a cloudy day is 0.00590\n"
     ]
    }
   ],
   "source": [
    "P_clear = 0.72\n",
    "P_cloudy = 1-P_clear #  = 0.28\n",
    "\n",
    "# prob that disengagements occur\n",
    "P_diseng1 = summary_month_df['total number of disengagements'].sum()/ summary_month_df['miles driven in autonomous mode'].sum() \n",
    "\n",
    "# prob that weather = cloudy given diseng, Cause is just a proxy variable for unique rows, it can be one of the other columns as well\n",
    "P_cloudy_diseng1 = dseng_month_df[dseng_month_df['Weather'] == 'cloudy']['Cause'].sum()/dseng_month_df['Cause'].sum()\n",
    "\n",
    "# answer\n",
    "P_diseng1_cloudy = (P_cloudy_diseng1 * P_diseng1)/P_cloudy\n",
    "print('Probability of disengagement per mile on a cloudy day is {0:.{1}f}'.format(P_diseng1_cloudy,5))\n"
   ]
  },
  {
   "cell_type": "markdown",
   "metadata": {},
   "source": [
    "#### 2.1.c $$ P(X = 1 | C = Cl) = \\frac {P(C = Cl | X = 1) * P (X = 1)}{P(C = Cl)} $$"
   ]
  },
  {
   "cell_type": "code",
   "execution_count": 20,
   "metadata": {},
   "outputs": [
    {
     "name": "stdout",
     "output_type": "stream",
     "text": [
      "Probability of disengagement per mile on a clear day is 0.00052\n"
     ]
    }
   ],
   "source": [
    "P_clear_diseng1 = dseng_month_df[dseng_month_df['Weather'] == 'clear']['Cause'].sum()/dseng_month_df['Cause'].sum()\n",
    "P_diseng1_clear = (P_clear_diseng1 * P_diseng1)/P_clear\n",
    "print('Probability of disengagement per mile on a clear day is {0:.{1}f}'.format(P_diseng1_clear,5))\n"
   ]
  },
  {
   "cell_type": "markdown",
   "metadata": {},
   "source": [
    "#### 2.1.d In light of above question, we just replace the 'total number of disengagements' column with 'automatic disengagements' column\n",
    "\n",
    "\n",
    "$$ P(X = auto1 | C = Cy) = \\frac {P(C = Cy | X = auto1) * P (X = auto1)}{P(C = Cy)} $$\n",
    "$$ P(X = auto1 | C = Cl) = \\frac {P(C = Cl | X = auto1) * P (X = auto1)}{P(C = Cl)} $$"
   ]
  },
  {
   "cell_type": "code",
   "execution_count": 21,
   "metadata": {},
   "outputs": [
    {
     "name": "stdout",
     "output_type": "stream",
     "text": [
      "Probability of automatic disengagement per mile on a clear day is 0.00026\n",
      "Probability of automatic disengagement per mile on a cloudy day is 0.00281\n"
     ]
    }
   ],
   "source": [
    "P_automatic = summary_month_df['number of automatic disengagements'].sum()/ summary_month_df['miles driven in autonomous mode'].sum() \n",
    "\n",
    "\n",
    "P_clear_automatic = len(dseng_df[(dseng_df['TypeOfTrigger'] == 'automatic') & (dseng_df['Weather'] == 'clear')])/len(dseng_df[dseng_df['TypeOfTrigger'] == 'automatic'])\n",
    "P_cloudy_automatic = len(dseng_df[(dseng_df['TypeOfTrigger'] == 'automatic') & (dseng_df['Weather'] == 'cloudy')])/len(dseng_df[dseng_df['TypeOfTrigger'] == 'automatic'])\n",
    "\n",
    "P_automatic_clear = P_clear_automatic * P_automatic / P_clear\n",
    "P_automatic_cloudy = P_cloudy_automatic * P_automatic / P_cloudy\n",
    "\n",
    "print('Probability of automatic disengagement per mile on a clear day is {0:.{1}f}'.format(P_automatic_clear,5))\n",
    "print('Probability of automatic disengagement per mile on a cloudy day is {0:.{1}f}'.format(P_automatic_cloudy,5))\n",
    "\n"
   ]
  },
  {
   "cell_type": "markdown",
   "metadata": {},
   "source": [
    "#### 2.1.e How likely is it that in 12000 miles, there are 150 or more disengagements under cloudy conditions? [Hint: Think of an appropriate approximation that makes the computation feasible/easier.]"
   ]
  },
  {
   "cell_type": "markdown",
   "metadata": {},
   "source": [
    "this is a binomial disribution, we need to find P(Y>150|cloudy) where Y is the binomial random variable. Y is sum of all individual trials (miles in this case).\n",
    "\n",
    "Example: Y = 200 indicates that disengagements happened in 200 out of 12000 miles \n",
    "\n",
    "$$ P(Y>150|cloudy)  =  \\sum_{i = 150}^{12000} {12000\\choose150} * P^{i} * (1-P)^{12000-i} $$\n",
    "where  P = P(X=1|C = Cy) == 0.0059\n",
    "\n",
    "\n",
    "#reference for approximation: https://www.statisticshowto.datasciencecentral.com/probability-and-statistics/binomial-theorem/normal-approximation-to-the-binomial/\n",
    "large sample sie (np > 5) so central limit theorem is used \n",
    "\n",
    "For the original **Binomial Distribution** summary statistics are: <br>\n",
    "\n",
    "$\\mu$  = n*P = 12000 x 0.0059 = 70.8 <br>\n",
    "$\\sigma^{2} $ = nxPx(1-P) = 70.383 <br>\n",
    "\n",
    "**Normal Distribution**:\n",
    "$$ Z = \\frac {Y - \\mu} {\\sigma} $$ \n",
    "\n",
    "**Approximate solution**:\n",
    "$$ P(Y \\ge 150) = 1 - P(Y < 150) = 1 - P(Z < \\frac{150 - \\mu}{\\sigma}) $$\n",
    "$$  = 1 - P(Z < \\frac{149.5 - 70.8}{\\sqrt{70.383}}) $$ # continuity correction factor\n",
    "$$  = 1 - P(Z < 9.38) $$"
   ]
  },
  {
   "cell_type": "code",
   "execution_count": 22,
   "metadata": {},
   "outputs": [
    {
     "name": "stdout",
     "output_type": "stream",
     "text": [
      "Probabiity that in 12000 miles, there are 150 or more disengagements under cloudy conditions is 0.0\n",
      "The value is very low due to the very low value of probability: P_X_cloudy. It is very unlikely that so many disengagements occur\n"
     ]
    }
   ],
   "source": [
    "P_Y150_cloudy = 1- st.norm.cdf(9.38)\n",
    "print(\"Probabiity that in 12000 miles, there are 150 or more disengagements \\\n",
    "under cloudy conditions is {0}\".format(P_Y150_cloudy))\n",
    "print(\"The value is very low due to the very low value of probability: P_X_cloudy. It is very unlikely that so many disengagements \\\n",
    "occur\")\n",
    "\n"
   ]
  },
  {
   "cell_type": "code",
   "execution_count": 23,
   "metadata": {},
   "outputs": [
    {
     "data": {
      "text/plain": [
       "9.380820917613287"
      ]
     },
     "execution_count": 23,
     "metadata": {},
     "output_type": "execute_result"
    }
   ],
   "source": [
    "(149.5-70.8)/math.sqrt(70.383)"
   ]
  },
  {
   "cell_type": "markdown",
   "metadata": {},
   "source": [
    "### 2.2 Questions on Hypothesis Testing"
   ]
  },
  {
   "cell_type": "markdown",
   "metadata": {},
   "source": [
    "#### 2.a Normal Distribution represents the probability distribution of the random variable (under observation) of the sample drawn from a bigger population (assuming null hypothesis is true)."
   ]
  },
  {
   "cell_type": "markdown",
   "metadata": {},
   "source": [
    "#### 2.b No, we reject the null hypothesis due to lack of evidence under certain significance level ($\\alpha $). We conclude that under these conditions alternate hypothesis is statistically probable. In other words, it is likely true. This is not the same as accepting it."
   ]
  },
  {
   "cell_type": "markdown",
   "metadata": {},
   "source": [
    "### 2.3 Hypothesis Testing on AV disengagements"
   ]
  },
  {
   "cell_type": "markdown",
   "metadata": {},
   "source": [
    "We can use hypothesis testing for difference in 2 proportions\n",
    "\n",
    "n1 = total AV miles ridden * p(cloudy) --> population 1 (cloudy) <br>\n",
    "n2 = total AV miles ridden * p(clear) --> population 2 (clear)<br>\n",
    "\n",
    "X1 = total no. of disengagement when cloudy <br>\n",
    "X2 = total no. of disengagement when clear \n",
    "\n",
    "$$\\hat{p1} = \\frac{X1}{n1}$$ <br>\n",
    "$$\\hat{p2} = \\frac{X2}{n2}$$ <br>\n",
    "$$\\hat{p} = \\frac{X1 + X2}{n1 + n2}$$ <br>\n",
    "$$\\hat{q} = 1- \\hat{p}$$ <br>\n",
    "\n",
    "Hypothesis testing: <br>\n",
    "\n",
    "H0 (Null): $$\\hat{p1} - \\hat{p2} \\le 0 $$ <br> i.e. cloudy days have less disengagements than clear days <br> <br>\n",
    "H1 (Alternate): $$\\hat{p1} - \\hat{p2} > 0 $$ <br>\n",
    "\n",
    "\n",
    "Test-Statistic =  $$ Z =  \\frac {(\\hat{p1} - \\hat{p2})- 0} {\\sqrt {\\hat{p}\\hat{q} (\\frac{1}{n1}+\\frac{1}{n2})} }  $$ <br>\n",
    "\n",
    "we use the **right tailed test on the normal distribution** \n",
    "$$ Z_{dist} \\approx N(0,\\sqrt {\\hat{p}\\hat{q} (\\frac{1}{n1}+\\frac{1}{n2})} )$$\n"
   ]
  },
  {
   "cell_type": "code",
   "execution_count": 24,
   "metadata": {},
   "outputs": [
    {
     "name": "stdout",
     "output_type": "stream",
     "text": [
      "Z_stat is 38.1986\n",
      "p_value is 0.0 << 0.05. Hence we reject H0, and say that \n",
      "It is statistically likely that number of disengagements on a cloudy day are more than a clear day\n"
     ]
    }
   ],
   "source": [
    "X1 = sum(dseng_df['Weather'] == 'cloudy')\n",
    "n1 = summary_month_df['miles driven in autonomous mode'].sum()*P_cloudy\n",
    "p_hat_1 = X1/n1 \n",
    "\n",
    "X2 = sum(dseng_df['Weather'] == 'clear')\n",
    "n2 = summary_month_df['miles driven in autonomous mode'].sum()*P_clear\n",
    "p_hat_2 = X2/n2 \n",
    "\n",
    "p_hat = (X1+X2)/(n1+n2)\n",
    "q_hat = 1-p_hat\n",
    "\n",
    "Z_stat = (p_hat_1-p_hat_2)/math.sqrt(p_hat*q_hat*(1/n1+1/n2))\n",
    "\n",
    "\n",
    "p_value = 1-st.norm.cdf(Z_stat)\n",
    "print(\"Z_stat is {0:0.{1}f}\".format(Z_stat,4))\n",
    "print(\"p_value is {0} << 0.05. Hence we reject H0, and say that \\nIt is statistically likely that number of \\\n",
    "disengagements on a cloudy day are more than a clear day\".format(p_value))"
   ]
  },
  {
   "cell_type": "markdown",
   "metadata": {},
   "source": [
    "### 2.4 Conditional Probability"
   ]
  },
  {
   "cell_type": "code",
   "execution_count": 25,
   "metadata": {},
   "outputs": [
    {
     "name": "stdout",
     "output_type": "stream",
     "text": [
      " P(>0.6s given that the weather was cloudy) = 0.473551637279597\n",
      " P(>0.9s given that the weather was clear) = 0.28125\n"
     ]
    }
   ],
   "source": [
    "# (a)0.6s given that the weather was cloudy\n",
    "aut_diseng_cloudy = dseng_df[(dseng_df.TypeOfTrigger == 'automatic') & (dseng_df.Weather == 'cloudy')]\n",
    "\n",
    "p_06s_auto_cloudy = sum(aut_diseng_cloudy.ReactionTime > 0.6)/aut_diseng_cloudy.shape[0]\n",
    "\n",
    "print(\" P(>0.6s given that the weather was cloudy) = {0}\".format(p_06s_auto_cloudy))\n",
    "\n",
    "\n",
    "# (a)0.9s given that the weather was clear\n",
    "aut_diseng_clear = dseng_df[(dseng_df.TypeOfTrigger == 'automatic') & (dseng_df.Weather == 'clear')]\n",
    "\n",
    "p_09s_auto_clear = sum(aut_diseng_clear.ReactionTime > 0.9)/aut_diseng_clear.shape[0]\n",
    "\n",
    "print(\" P(>0.9s given that the weather was clear) = {0}\".format(p_09s_auto_clear))"
   ]
  },
  {
   "cell_type": "markdown",
   "metadata": {},
   "source": [
    "### 2.5 Theorem of total probability: Automatic AV disengagement\n",
    "\n",
    "ex:$p(accident) = p(t>0.6s|autoDiseng,cloudy)* p(autoDiseng | cloudy)* p(cloudy) + p(t>0.9s|autoDiseng,clear)* p(autoDiseng | clear)* p(clear)  $"
   ]
  },
  {
   "cell_type": "code",
   "execution_count": 26,
   "metadata": {},
   "outputs": [
    {
     "name": "stdout",
     "output_type": "stream",
     "text": [
      "Probability of accident per mile is conditional sum of two probs in section 2.4 = 0.0004255496022595694\n"
     ]
    }
   ],
   "source": [
    "accident_prob = p_06s_auto_cloudy* P_automatic_cloudy*P_cloudy + p_09s_auto_clear* P_automatic_clear *P_clear\n",
    "print(\"Probability of accident per mile is conditional sum of two probs in section 2.4 = {0}\". format(accident_prob))"
   ]
  },
  {
   "cell_type": "markdown",
   "metadata": {},
   "source": [
    "### 2.6 Comparison with human drivers\n",
    "\n",
    "We see that p(accident by AV) in $4.25*10^{-4}$ is much higher than p(accident by human) = $2*10^{-6}$ . So it is not ready for market yet in this case."
   ]
  },
  {
   "cell_type": "markdown",
   "metadata": {},
   "source": [
    "# ----------------------------- Task 3 -----------------------------"
   ]
  },
  {
   "cell_type": "markdown",
   "metadata": {},
   "source": [
    "# Question 1"
   ]
  },
  {
   "cell_type": "code",
   "execution_count": 34,
   "metadata": {},
   "outputs": [
    {
     "data": {
      "text/html": [
       "<div>\n",
       "<style scoped>\n",
       "    .dataframe tbody tr th:only-of-type {\n",
       "        vertical-align: middle;\n",
       "    }\n",
       "\n",
       "    .dataframe tbody tr th {\n",
       "        vertical-align: top;\n",
       "    }\n",
       "\n",
       "    .dataframe thead th {\n",
       "        text-align: right;\n",
       "    }\n",
       "</style>\n",
       "<table border=\"1\" class=\"dataframe\">\n",
       "  <thead>\n",
       "    <tr style=\"text-align: right;\">\n",
       "      <th></th>\n",
       "      <th>Month</th>\n",
       "      <th>Car</th>\n",
       "      <th>Location</th>\n",
       "      <th>Weather</th>\n",
       "      <th>TypeOfTrigger</th>\n",
       "      <th>ReactionTime</th>\n",
       "      <th>Cause</th>\n",
       "      <th>Month_actual</th>\n",
       "      <th>Class</th>\n",
       "    </tr>\n",
       "  </thead>\n",
       "  <tbody>\n",
       "    <tr>\n",
       "      <th>0</th>\n",
       "      <td>14-Sep</td>\n",
       "      <td>WDD2221851A001072</td>\n",
       "      <td>urban-street</td>\n",
       "      <td>cloudy</td>\n",
       "      <td>automatic</td>\n",
       "      <td>0.58</td>\n",
       "      <td>Incorrect Traffic Light Detection</td>\n",
       "      <td>Sep</td>\n",
       "      <td>Perception System</td>\n",
       "    </tr>\n",
       "    <tr>\n",
       "      <th>1</th>\n",
       "      <td>14-Sep</td>\n",
       "      <td>WDD2221851A001072</td>\n",
       "      <td>urban-street</td>\n",
       "      <td>cloudy</td>\n",
       "      <td>automatic</td>\n",
       "      <td>0.66</td>\n",
       "      <td>Adverse road surface conditions</td>\n",
       "      <td>Sep</td>\n",
       "      <td>Perception System</td>\n",
       "    </tr>\n",
       "    <tr>\n",
       "      <th>2</th>\n",
       "      <td>14-Sep</td>\n",
       "      <td>WDD2221851A001072</td>\n",
       "      <td>urban-street</td>\n",
       "      <td>cloudy</td>\n",
       "      <td>automatic</td>\n",
       "      <td>1.93</td>\n",
       "      <td>Position Estimation Failure</td>\n",
       "      <td>Sep</td>\n",
       "      <td>Perception System</td>\n",
       "    </tr>\n",
       "    <tr>\n",
       "      <th>3</th>\n",
       "      <td>14-Sep</td>\n",
       "      <td>WDD2221851A001072</td>\n",
       "      <td>urban-street</td>\n",
       "      <td>cloudy</td>\n",
       "      <td>automatic</td>\n",
       "      <td>0.65</td>\n",
       "      <td>Emergency Vehicle</td>\n",
       "      <td>Sep</td>\n",
       "      <td>Perception System</td>\n",
       "    </tr>\n",
       "    <tr>\n",
       "      <th>4</th>\n",
       "      <td>14-Sep</td>\n",
       "      <td>WDD2221851A001072</td>\n",
       "      <td>urban-street</td>\n",
       "      <td>cloudy</td>\n",
       "      <td>automatic</td>\n",
       "      <td>0.64</td>\n",
       "      <td>Adverse road surface conditions</td>\n",
       "      <td>Sep</td>\n",
       "      <td>Perception System</td>\n",
       "    </tr>\n",
       "  </tbody>\n",
       "</table>\n",
       "</div>"
      ],
      "text/plain": [
       "    Month                Car      Location Weather TypeOfTrigger  \\\n",
       "0  14-Sep  WDD2221851A001072  urban-street  cloudy     automatic   \n",
       "1  14-Sep  WDD2221851A001072  urban-street  cloudy     automatic   \n",
       "2  14-Sep  WDD2221851A001072  urban-street  cloudy     automatic   \n",
       "3  14-Sep  WDD2221851A001072  urban-street  cloudy     automatic   \n",
       "4  14-Sep  WDD2221851A001072  urban-street  cloudy     automatic   \n",
       "\n",
       "   ReactionTime                              Cause Month_actual  \\\n",
       "0          0.58  Incorrect Traffic Light Detection          Sep   \n",
       "1          0.66    Adverse road surface conditions          Sep   \n",
       "2          1.93        Position Estimation Failure          Sep   \n",
       "3          0.65                  Emergency Vehicle          Sep   \n",
       "4          0.64    Adverse road surface conditions          Sep   \n",
       "\n",
       "               Class  \n",
       "0  Perception System  \n",
       "1  Perception System  \n",
       "2  Perception System  \n",
       "3  Perception System  \n",
       "4  Perception System  "
      ]
     },
     "execution_count": 34,
     "metadata": {},
     "output_type": "execute_result"
    }
   ],
   "source": [
    "#Adding a column names \"Class\" \n",
    "dict_names={'Incorrect behavior prediction of others':'Controller','Recklessly behaving agent':'Controller',\\\n",
    "           'Unwanted Driver Discomfort':'Controller','Adverse road surface conditions':'Perception System',\\\n",
    "           'Emergency Vehicle':'Perception System','Position Estimation Failure':'Perception System',\\\n",
    "           'Incorrect Traffic Light Detection':'Perception System','System Tuning and Calibration':'Computer System',\\\n",
    "           'Hardware Fault':'Computer System','Software Froze':'Computer System'}\n",
    "\n",
    "dseng_df['Class']=dseng_df['Cause'].map(dict_names)"
   ]
  },
  {
   "cell_type": "markdown",
   "metadata": {},
   "source": [
    "# Questions 2,3,4,5"
   ]
  },
  {
   "cell_type": "code",
   "execution_count": 110,
   "metadata": {},
   "outputs": [
    {
     "name": "stdout",
     "output_type": "stream",
     "text": [
      "CPT Table is as follows: \n",
      "\n",
      "Class              Location    \n",
      "Computer System    highway         0.054393\n",
      "                   urban-street    0.945607\n",
      "Controller         urban-street    1.000000\n",
      "Perception System  urban-street    1.000000\n",
      "Controller         highway         0.000000\n",
      "Perception System  highway         0.000000\n",
      "Name: Weather, dtype: float64 \n",
      "\n",
      " Class              Weather\n",
      "Computer System    clear      0.627615\n",
      "                   cloudy     0.372385\n",
      "Controller         clear      0.003425\n",
      "                   cloudy     0.996575\n",
      "Perception System  cloudy     1.000000\n",
      "                   clear      0.000000\n",
      "Name: Location, dtype: float64 \n",
      "\n",
      " Class              TypeOfTrigger\n",
      "Computer System    automatic        0.497908\n",
      "                   manual           0.502092\n",
      "Controller         automatic        0.123288\n",
      "                   manual           0.876712\n",
      "Perception System  automatic        0.829861\n",
      "                   manual           0.170139\n",
      "Name: Location, dtype: float64 \n",
      "\n",
      "\n",
      "Accuracy for iteration: 1 is: 78.5366 \n",
      " \n",
      "\n",
      "CPT Table is as follows: \n",
      "\n",
      "Class              Location    \n",
      "Computer System    highway         0.077551\n",
      "                   urban-street    0.922449\n",
      "Controller         urban-street    1.000000\n",
      "Perception System  urban-street    1.000000\n",
      "Controller         highway         0.000000\n",
      "Perception System  highway         0.000000\n",
      "Name: Weather, dtype: float64 \n",
      "\n",
      " Class              Weather\n",
      "Computer System    clear      0.612245\n",
      "                   cloudy     0.387755\n",
      "Controller         clear      0.003448\n",
      "                   cloudy     0.996552\n",
      "Perception System  cloudy     1.000000\n",
      "                   clear      0.000000\n",
      "Name: Location, dtype: float64 \n",
      "\n",
      " Class              TypeOfTrigger\n",
      "Computer System    automatic        0.485714\n",
      "                   manual           0.514286\n",
      "Controller         automatic        0.134483\n",
      "                   manual           0.865517\n",
      "Perception System  automatic        0.841549\n",
      "                   manual           0.158451\n",
      "Name: Location, dtype: float64 \n",
      "\n",
      "\n",
      "Accuracy for iteration: 2 is: 78.0488 \n",
      " \n",
      "\n",
      "CPT Table is as follows: \n",
      "\n",
      "Class              Location    \n",
      "Computer System    highway         0.067227\n",
      "                   urban-street    0.932773\n",
      "Controller         urban-street    1.000000\n",
      "Perception System  urban-street    1.000000\n",
      "Controller         highway         0.000000\n",
      "Perception System  highway         0.000000\n",
      "Name: Weather, dtype: float64 \n",
      "\n",
      " Class              Weather\n",
      "Computer System    clear      0.600840\n",
      "                   cloudy     0.399160\n",
      "Controller         clear      0.003509\n",
      "                   cloudy     0.996491\n",
      "Perception System  cloudy     1.000000\n",
      "                   clear      0.000000\n",
      "Name: Location, dtype: float64 \n",
      "\n",
      " Class              TypeOfTrigger\n",
      "Computer System    automatic        0.449580\n",
      "                   manual           0.550420\n",
      "Controller         automatic        0.140351\n",
      "                   manual           0.859649\n",
      "Perception System  automatic        0.837838\n",
      "                   manual           0.162162\n",
      "Name: Location, dtype: float64 \n",
      "\n",
      "\n",
      "Accuracy for iteration: 3 is: 80.9756 \n",
      " \n",
      "\n",
      "CPT Table is as follows: \n",
      "\n",
      "Class              Location    \n",
      "Computer System    highway         0.068548\n",
      "                   urban-street    0.931452\n",
      "Controller         urban-street    1.000000\n",
      "Perception System  urban-street    1.000000\n",
      "Controller         highway         0.000000\n",
      "Perception System  highway         0.000000\n",
      "Name: Weather, dtype: float64 \n",
      "\n",
      " Class              Weather\n",
      "Computer System    clear      0.620968\n",
      "                   cloudy     0.379032\n",
      "Controller         clear      0.003559\n",
      "                   cloudy     0.996441\n",
      "Perception System  cloudy     1.000000\n",
      "                   clear      0.000000\n",
      "Name: Location, dtype: float64 \n",
      "\n",
      " Class              TypeOfTrigger\n",
      "Computer System    automatic        0.471774\n",
      "                   manual           0.528226\n",
      "Controller         automatic        0.138790\n",
      "                   manual           0.861210\n",
      "Perception System  automatic        0.810345\n",
      "                   manual           0.189655\n",
      "Name: Location, dtype: float64 \n",
      "\n",
      "\n",
      "Accuracy for iteration: 4 is: 83.4146 \n",
      " \n",
      "\n",
      "CPT Table is as follows: \n",
      "\n",
      "Class              Location    \n",
      "Computer System    highway         0.063241\n",
      "                   urban-street    0.936759\n",
      "Controller         urban-street    1.000000\n",
      "Perception System  urban-street    1.000000\n",
      "Controller         highway         0.000000\n",
      "Perception System  highway         0.000000\n",
      "Name: Weather, dtype: float64 \n",
      "\n",
      " Class              Weather\n",
      "Computer System    clear      0.600791\n",
      "                   cloudy     0.399209\n",
      "Controller         cloudy     1.000000\n",
      "Perception System  cloudy     1.000000\n",
      "Controller         clear      0.000000\n",
      "Perception System  clear      0.000000\n",
      "Name: Location, dtype: float64 \n",
      "\n",
      " Class              TypeOfTrigger\n",
      "Computer System    automatic        0.478261\n",
      "                   manual           0.521739\n",
      "Controller         automatic        0.127586\n",
      "                   manual           0.872414\n",
      "Perception System  automatic        0.826087\n",
      "                   manual           0.173913\n",
      "Name: Location, dtype: float64 \n",
      "\n",
      "\n",
      "Accuracy for iteration: 5 is: 81.9512 \n",
      " \n",
      "\n",
      "Average Accuracy is: 80.58536585365854 percent\n"
     ]
    }
   ],
   "source": [
    "accuracy=[None]*5\n",
    "for itr in range(5):    # Do this 5 times\n",
    "    #Split data frame into 80:20 ratio for training:testing\n",
    "    y=dseng_df.Class\n",
    "    x=dseng_df.drop(['Class','Month','Car','ReactionTime','Cause'],axis=1)  \n",
    "    x_train, x_test, y_train, y_test = train_test_split(x, y, test_size=0.2)\n",
    "    train=x_train.join(y_train)  \n",
    "    test=x_test.join(y_test)  \n",
    "    test.reset_index() # Reset index  \n",
    "    class_names= ['Controller','Computer System','Perception System'] \n",
    "\n",
    "    #Priors\n",
    "    total=y_train.value_counts().sum()  \n",
    "    p1=y_train.value_counts()['Controller']/total  \n",
    "    p2=y_train.value_counts()['Computer System']/total  \n",
    "    p3=y_train.value_counts()['Perception System']/total  \n",
    "    priors={'Controller':p1,'Computer System':p2,'Perception System':p3}\n",
    "\n",
    "    #Conditional probability\n",
    "    #P(Feature=feature|C=C,CS,PS)\n",
    "\n",
    "    cond_prob1=train.groupby(['Class','Location'])['Weather'].count()/train.groupby(['Class'])['Weather'].count()\n",
    "    cond_prob2=train.groupby(['Class','Weather'])['Location'].count()/train.groupby(['Class'])['Location'].count()    \n",
    "    cond_prob3=train.groupby(['Class','TypeOfTrigger'])['Location'].count()/train.groupby(['Class'])['Location'].count()\n",
    "\n",
    "    dict_CPT={'prob1':cond_prob1,'prob2':cond_prob2,'prob3':cond_prob3}\n",
    "    dict_feature={'prob1':'Location','prob2':'Weather','prob3':'TypeOfTrigger'}\n",
    "\n",
    "    for Key in ['prob1','prob2','prob3']:\n",
    "        my_cond_prob=dict_CPT[Key]               #Select a CPT to work with\n",
    "        for Class in class_names:                #Access all class names\n",
    "            x = dict_feature[Key]                #Determine what feature we need to work with in this particular CPT\n",
    "            for value in dseng_df[x].unique():    #get different values of that particular feature in the data set\n",
    "                try:    \n",
    "                    _=my_cond_prob.loc[Class,value]\n",
    "\n",
    "                except:\n",
    "                    my_cond_prob.loc[Class,value]=0\n",
    "                 \n",
    "    print(\"CPT Table is as follows: \\n\")\n",
    "    print(cond_prob1,'\\n\\n', cond_prob2,'\\n\\n',cond_prob3,'\\n\\n')    \n",
    "\n",
    "    prob_class=[]  \n",
    "    answer=[]                                   # Final Naive Bayes Prediction for test cases \n",
    "\n",
    "    for x in range(len(test)):  \n",
    "        z=test.iloc[x]\n",
    "        for Class in class_names:  \n",
    "            prob_class.extend([cond_prob1.loc[Class,z[0]]*cond_prob2.loc[Class,z[1]]*cond_prob3.loc[Class,z[2]]*priors[Class]])  \n",
    "\n",
    "        highest=max(prob_class) \n",
    "        for x in range(3):  \n",
    "            if prob_class[x]==highest:  \n",
    "                answer.append(class_names[x]) \n",
    "        prob_class=[] \n",
    "\n",
    "\n",
    "    ctr=0  \n",
    "    for i in range (len(test)):  \n",
    "        if answer[i]!=y_test.iloc[i]:  \n",
    "            ctr+=1  \n",
    "\n",
    "    correct=len(y_test)-ctr\n",
    "    accuracy[itr]=correct/len(y_test)*100  \n",
    "    print('Accuracy for iteration: {0} is: {1} \\n \\n'.format(itr+1, round(accuracy[itr],4)))\n",
    "\n",
    "from statistics import mean\n",
    "print(\"Average Accuracy is: {0} percent\".format(mean(accuracy)))"
   ]
  },
  {
   "cell_type": "markdown",
   "metadata": {},
   "source": [
    "# Question 6"
   ]
  },
  {
   "cell_type": "markdown",
   "metadata": {},
   "source": [
    "### Average accuracy is around 80 percent, so it classifies roughly 80 percent data correctly\n",
    "### If we were to leave to chance, the number of correct classifications we could have obtained would be Expectation value, which is 33.3%, the naive bayes definitely performs better than simple guessing\n",
    "\n"
   ]
  },
  {
   "cell_type": "code",
   "execution_count": null,
   "metadata": {},
   "outputs": [],
   "source": []
  }
 ],
 "metadata": {
  "kernelspec": {
   "display_name": "Python 3",
   "language": "python",
   "name": "python3"
  },
  "language_info": {
   "codemirror_mode": {
    "name": "ipython",
    "version": 3
   },
   "file_extension": ".py",
   "mimetype": "text/x-python",
   "name": "python",
   "nbconvert_exporter": "python",
   "pygments_lexer": "ipython3",
   "version": "3.6.8"
  }
 },
 "nbformat": 4,
 "nbformat_minor": 2
}
