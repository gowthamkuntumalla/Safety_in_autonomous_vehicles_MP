{
 "cells": [
  {
   "cell_type": "markdown",
   "metadata": {},
   "source": [
    " # MP1 - ECE 498:  Data Science & Analytics\n",
    " \n",
    " \n",
    " # Group members (NetIDs): \n",
    "    \n",
    " ##   Akhilesh Somani (somani4)\n",
    " ##   Gowtham Kuntumalla (gowtham4)\n",
    " ##   Manan Mehta (mananm2)"
   ]
  },
  {
   "cell_type": "code",
   "execution_count": 10,
   "metadata": {},
   "outputs": [],
   "source": [
    "import pandas as pd \n",
    "import seaborn as sns\n",
    "import numpy as np  \n",
    "from datetime import datetime\n",
    "from scipy import stats as st\n",
    "\n",
    "from pathlib import Path # to handle imports for different OS"
   ]
  },
  {
   "cell_type": "code",
   "execution_count": 11,
   "metadata": {},
   "outputs": [
    {
     "ename": "FileNotFoundError",
     "evalue": "[Errno 2] File b'Safety_in_autonomous_vehicles_MP1/mp1_av_disengagements.csv' does not exist: b'Safety_in_autonomous_vehicles_MP1/mp1_av_disengagements.csv'",
     "output_type": "error",
     "traceback": [
      "\u001b[0;31m---------------------------------------------------------------------------\u001b[0m",
      "\u001b[0;31mFileNotFoundError\u001b[0m                         Traceback (most recent call last)",
      "\u001b[0;32m<ipython-input-11-6024b1d6650d>\u001b[0m in \u001b[0;36m<module>\u001b[0;34m\u001b[0m\n\u001b[1;32m      2\u001b[0m \u001b[0mfile1\u001b[0m \u001b[0;34m=\u001b[0m \u001b[0mfolder\u001b[0m \u001b[0;34m/\u001b[0m \u001b[0;34m'mp1_av_disengagements.csv'\u001b[0m\u001b[0;34m\u001b[0m\u001b[0;34m\u001b[0m\u001b[0m\n\u001b[1;32m      3\u001b[0m \u001b[0mfile2\u001b[0m \u001b[0;34m=\u001b[0m \u001b[0mfolder\u001b[0m \u001b[0;34m/\u001b[0m \u001b[0;34m'mp1_av_totalmiles.csv'\u001b[0m\u001b[0;34m\u001b[0m\u001b[0;34m\u001b[0m\u001b[0m\n\u001b[0;32m----> 4\u001b[0;31m \u001b[0mdseng_df\u001b[0m \u001b[0;34m=\u001b[0m \u001b[0mpd\u001b[0m\u001b[0;34m.\u001b[0m\u001b[0mread_csv\u001b[0m\u001b[0;34m(\u001b[0m\u001b[0mfile1\u001b[0m\u001b[0;34m)\u001b[0m\u001b[0;34m\u001b[0m\u001b[0;34m\u001b[0m\u001b[0m\n\u001b[0m\u001b[1;32m      5\u001b[0m \u001b[0msummary_month_df\u001b[0m \u001b[0;34m=\u001b[0m \u001b[0mpd\u001b[0m\u001b[0;34m.\u001b[0m\u001b[0mread\u001b[0m\u001b[0;34m(\u001b[0m\u001b[0mfile2\u001b[0m\u001b[0;34m)\u001b[0m\u001b[0;34m\u001b[0m\u001b[0;34m\u001b[0m\u001b[0m\n",
      "\u001b[0;32m~/opt/anaconda3/lib/python3.7/site-packages/pandas/io/parsers.py\u001b[0m in \u001b[0;36mparser_f\u001b[0;34m(filepath_or_buffer, sep, delimiter, header, names, index_col, usecols, squeeze, prefix, mangle_dupe_cols, dtype, engine, converters, true_values, false_values, skipinitialspace, skiprows, skipfooter, nrows, na_values, keep_default_na, na_filter, verbose, skip_blank_lines, parse_dates, infer_datetime_format, keep_date_col, date_parser, dayfirst, cache_dates, iterator, chunksize, compression, thousands, decimal, lineterminator, quotechar, quoting, doublequote, escapechar, comment, encoding, dialect, error_bad_lines, warn_bad_lines, delim_whitespace, low_memory, memory_map, float_precision)\u001b[0m\n\u001b[1;32m    683\u001b[0m         )\n\u001b[1;32m    684\u001b[0m \u001b[0;34m\u001b[0m\u001b[0m\n\u001b[0;32m--> 685\u001b[0;31m         \u001b[0;32mreturn\u001b[0m \u001b[0m_read\u001b[0m\u001b[0;34m(\u001b[0m\u001b[0mfilepath_or_buffer\u001b[0m\u001b[0;34m,\u001b[0m \u001b[0mkwds\u001b[0m\u001b[0;34m)\u001b[0m\u001b[0;34m\u001b[0m\u001b[0;34m\u001b[0m\u001b[0m\n\u001b[0m\u001b[1;32m    686\u001b[0m \u001b[0;34m\u001b[0m\u001b[0m\n\u001b[1;32m    687\u001b[0m     \u001b[0mparser_f\u001b[0m\u001b[0;34m.\u001b[0m\u001b[0m__name__\u001b[0m \u001b[0;34m=\u001b[0m \u001b[0mname\u001b[0m\u001b[0;34m\u001b[0m\u001b[0;34m\u001b[0m\u001b[0m\n",
      "\u001b[0;32m~/opt/anaconda3/lib/python3.7/site-packages/pandas/io/parsers.py\u001b[0m in \u001b[0;36m_read\u001b[0;34m(filepath_or_buffer, kwds)\u001b[0m\n\u001b[1;32m    455\u001b[0m \u001b[0;34m\u001b[0m\u001b[0m\n\u001b[1;32m    456\u001b[0m     \u001b[0;31m# Create the parser.\u001b[0m\u001b[0;34m\u001b[0m\u001b[0;34m\u001b[0m\u001b[0;34m\u001b[0m\u001b[0m\n\u001b[0;32m--> 457\u001b[0;31m     \u001b[0mparser\u001b[0m \u001b[0;34m=\u001b[0m \u001b[0mTextFileReader\u001b[0m\u001b[0;34m(\u001b[0m\u001b[0mfp_or_buf\u001b[0m\u001b[0;34m,\u001b[0m \u001b[0;34m**\u001b[0m\u001b[0mkwds\u001b[0m\u001b[0;34m)\u001b[0m\u001b[0;34m\u001b[0m\u001b[0;34m\u001b[0m\u001b[0m\n\u001b[0m\u001b[1;32m    458\u001b[0m \u001b[0;34m\u001b[0m\u001b[0m\n\u001b[1;32m    459\u001b[0m     \u001b[0;32mif\u001b[0m \u001b[0mchunksize\u001b[0m \u001b[0;32mor\u001b[0m \u001b[0miterator\u001b[0m\u001b[0;34m:\u001b[0m\u001b[0;34m\u001b[0m\u001b[0;34m\u001b[0m\u001b[0m\n",
      "\u001b[0;32m~/opt/anaconda3/lib/python3.7/site-packages/pandas/io/parsers.py\u001b[0m in \u001b[0;36m__init__\u001b[0;34m(self, f, engine, **kwds)\u001b[0m\n\u001b[1;32m    893\u001b[0m             \u001b[0mself\u001b[0m\u001b[0;34m.\u001b[0m\u001b[0moptions\u001b[0m\u001b[0;34m[\u001b[0m\u001b[0;34m\"has_index_names\"\u001b[0m\u001b[0;34m]\u001b[0m \u001b[0;34m=\u001b[0m \u001b[0mkwds\u001b[0m\u001b[0;34m[\u001b[0m\u001b[0;34m\"has_index_names\"\u001b[0m\u001b[0;34m]\u001b[0m\u001b[0;34m\u001b[0m\u001b[0;34m\u001b[0m\u001b[0m\n\u001b[1;32m    894\u001b[0m \u001b[0;34m\u001b[0m\u001b[0m\n\u001b[0;32m--> 895\u001b[0;31m         \u001b[0mself\u001b[0m\u001b[0;34m.\u001b[0m\u001b[0m_make_engine\u001b[0m\u001b[0;34m(\u001b[0m\u001b[0mself\u001b[0m\u001b[0;34m.\u001b[0m\u001b[0mengine\u001b[0m\u001b[0;34m)\u001b[0m\u001b[0;34m\u001b[0m\u001b[0;34m\u001b[0m\u001b[0m\n\u001b[0m\u001b[1;32m    896\u001b[0m \u001b[0;34m\u001b[0m\u001b[0m\n\u001b[1;32m    897\u001b[0m     \u001b[0;32mdef\u001b[0m \u001b[0mclose\u001b[0m\u001b[0;34m(\u001b[0m\u001b[0mself\u001b[0m\u001b[0;34m)\u001b[0m\u001b[0;34m:\u001b[0m\u001b[0;34m\u001b[0m\u001b[0;34m\u001b[0m\u001b[0m\n",
      "\u001b[0;32m~/opt/anaconda3/lib/python3.7/site-packages/pandas/io/parsers.py\u001b[0m in \u001b[0;36m_make_engine\u001b[0;34m(self, engine)\u001b[0m\n\u001b[1;32m   1133\u001b[0m     \u001b[0;32mdef\u001b[0m \u001b[0m_make_engine\u001b[0m\u001b[0;34m(\u001b[0m\u001b[0mself\u001b[0m\u001b[0;34m,\u001b[0m \u001b[0mengine\u001b[0m\u001b[0;34m=\u001b[0m\u001b[0;34m\"c\"\u001b[0m\u001b[0;34m)\u001b[0m\u001b[0;34m:\u001b[0m\u001b[0;34m\u001b[0m\u001b[0;34m\u001b[0m\u001b[0m\n\u001b[1;32m   1134\u001b[0m         \u001b[0;32mif\u001b[0m \u001b[0mengine\u001b[0m \u001b[0;34m==\u001b[0m \u001b[0;34m\"c\"\u001b[0m\u001b[0;34m:\u001b[0m\u001b[0;34m\u001b[0m\u001b[0;34m\u001b[0m\u001b[0m\n\u001b[0;32m-> 1135\u001b[0;31m             \u001b[0mself\u001b[0m\u001b[0;34m.\u001b[0m\u001b[0m_engine\u001b[0m \u001b[0;34m=\u001b[0m \u001b[0mCParserWrapper\u001b[0m\u001b[0;34m(\u001b[0m\u001b[0mself\u001b[0m\u001b[0;34m.\u001b[0m\u001b[0mf\u001b[0m\u001b[0;34m,\u001b[0m \u001b[0;34m**\u001b[0m\u001b[0mself\u001b[0m\u001b[0;34m.\u001b[0m\u001b[0moptions\u001b[0m\u001b[0;34m)\u001b[0m\u001b[0;34m\u001b[0m\u001b[0;34m\u001b[0m\u001b[0m\n\u001b[0m\u001b[1;32m   1136\u001b[0m         \u001b[0;32melse\u001b[0m\u001b[0;34m:\u001b[0m\u001b[0;34m\u001b[0m\u001b[0;34m\u001b[0m\u001b[0m\n\u001b[1;32m   1137\u001b[0m             \u001b[0;32mif\u001b[0m \u001b[0mengine\u001b[0m \u001b[0;34m==\u001b[0m \u001b[0;34m\"python\"\u001b[0m\u001b[0;34m:\u001b[0m\u001b[0;34m\u001b[0m\u001b[0;34m\u001b[0m\u001b[0m\n",
      "\u001b[0;32m~/opt/anaconda3/lib/python3.7/site-packages/pandas/io/parsers.py\u001b[0m in \u001b[0;36m__init__\u001b[0;34m(self, src, **kwds)\u001b[0m\n\u001b[1;32m   1915\u001b[0m         \u001b[0mkwds\u001b[0m\u001b[0;34m[\u001b[0m\u001b[0;34m\"usecols\"\u001b[0m\u001b[0;34m]\u001b[0m \u001b[0;34m=\u001b[0m \u001b[0mself\u001b[0m\u001b[0;34m.\u001b[0m\u001b[0musecols\u001b[0m\u001b[0;34m\u001b[0m\u001b[0;34m\u001b[0m\u001b[0m\n\u001b[1;32m   1916\u001b[0m \u001b[0;34m\u001b[0m\u001b[0m\n\u001b[0;32m-> 1917\u001b[0;31m         \u001b[0mself\u001b[0m\u001b[0;34m.\u001b[0m\u001b[0m_reader\u001b[0m \u001b[0;34m=\u001b[0m \u001b[0mparsers\u001b[0m\u001b[0;34m.\u001b[0m\u001b[0mTextReader\u001b[0m\u001b[0;34m(\u001b[0m\u001b[0msrc\u001b[0m\u001b[0;34m,\u001b[0m \u001b[0;34m**\u001b[0m\u001b[0mkwds\u001b[0m\u001b[0;34m)\u001b[0m\u001b[0;34m\u001b[0m\u001b[0;34m\u001b[0m\u001b[0m\n\u001b[0m\u001b[1;32m   1918\u001b[0m         \u001b[0mself\u001b[0m\u001b[0;34m.\u001b[0m\u001b[0munnamed_cols\u001b[0m \u001b[0;34m=\u001b[0m \u001b[0mself\u001b[0m\u001b[0;34m.\u001b[0m\u001b[0m_reader\u001b[0m\u001b[0;34m.\u001b[0m\u001b[0munnamed_cols\u001b[0m\u001b[0;34m\u001b[0m\u001b[0;34m\u001b[0m\u001b[0m\n\u001b[1;32m   1919\u001b[0m \u001b[0;34m\u001b[0m\u001b[0m\n",
      "\u001b[0;32mpandas/_libs/parsers.pyx\u001b[0m in \u001b[0;36mpandas._libs.parsers.TextReader.__cinit__\u001b[0;34m()\u001b[0m\n",
      "\u001b[0;32mpandas/_libs/parsers.pyx\u001b[0m in \u001b[0;36mpandas._libs.parsers.TextReader._setup_parser_source\u001b[0;34m()\u001b[0m\n",
      "\u001b[0;31mFileNotFoundError\u001b[0m: [Errno 2] File b'Safety_in_autonomous_vehicles_MP1/mp1_av_disengagements.csv' does not exist: b'Safety_in_autonomous_vehicles_MP1/mp1_av_disengagements.csv'"
     ]
    }
   ],
   "source": [
    "folder = Path(\"Safety_in_autonomous_vehicles_MP1\")\n",
    "file1 = folder / 'mp1_av_disengagements.csv'\n",
    "file2 = folder / 'mp1_av_totalmiles.csv'\n",
    "dseng_df = pd.read_csv(file1)\n",
    "summary_month_df = pd.read(file2)"
   ]
  },
  {
   "cell_type": "code",
   "execution_count": 29,
   "metadata": {},
   "outputs": [
    {
     "data": {
      "text/html": [
       "<div>\n",
       "<style scoped>\n",
       "    .dataframe tbody tr th:only-of-type {\n",
       "        vertical-align: middle;\n",
       "    }\n",
       "\n",
       "    .dataframe tbody tr th {\n",
       "        vertical-align: top;\n",
       "    }\n",
       "\n",
       "    .dataframe thead th {\n",
       "        text-align: right;\n",
       "    }\n",
       "</style>\n",
       "<table border=\"1\" class=\"dataframe\">\n",
       "  <thead>\n",
       "    <tr style=\"text-align: right;\">\n",
       "      <th></th>\n",
       "      <th>Month</th>\n",
       "      <th>Car</th>\n",
       "      <th>Location</th>\n",
       "      <th>Weather</th>\n",
       "      <th>TypeOfTrigger</th>\n",
       "      <th>ReactionTime</th>\n",
       "      <th>Cause</th>\n",
       "      <th>Month_actual</th>\n",
       "    </tr>\n",
       "  </thead>\n",
       "  <tbody>\n",
       "    <tr>\n",
       "      <td>0</td>\n",
       "      <td>14-Sep</td>\n",
       "      <td>WDD2221851A001072</td>\n",
       "      <td>urban-street</td>\n",
       "      <td>cloudy</td>\n",
       "      <td>automatic</td>\n",
       "      <td>0.58</td>\n",
       "      <td>Incorrect Traffic Light Detection</td>\n",
       "      <td>[14-Sep]</td>\n",
       "    </tr>\n",
       "    <tr>\n",
       "      <td>1</td>\n",
       "      <td>14-Sep</td>\n",
       "      <td>WDD2221851A001072</td>\n",
       "      <td>urban-street</td>\n",
       "      <td>cloudy</td>\n",
       "      <td>automatic</td>\n",
       "      <td>0.66</td>\n",
       "      <td>Adverse road surface conditions</td>\n",
       "      <td>[14-Sep]</td>\n",
       "    </tr>\n",
       "    <tr>\n",
       "      <td>2</td>\n",
       "      <td>14-Sep</td>\n",
       "      <td>WDD2221851A001072</td>\n",
       "      <td>urban-street</td>\n",
       "      <td>cloudy</td>\n",
       "      <td>automatic</td>\n",
       "      <td>1.93</td>\n",
       "      <td>Position Estimation Failure</td>\n",
       "      <td>[14-Sep]</td>\n",
       "    </tr>\n",
       "    <tr>\n",
       "      <td>3</td>\n",
       "      <td>14-Sep</td>\n",
       "      <td>WDD2221851A001072</td>\n",
       "      <td>urban-street</td>\n",
       "      <td>cloudy</td>\n",
       "      <td>automatic</td>\n",
       "      <td>0.65</td>\n",
       "      <td>Emergency Vehicle</td>\n",
       "      <td>[14-Sep]</td>\n",
       "    </tr>\n",
       "    <tr>\n",
       "      <td>4</td>\n",
       "      <td>14-Sep</td>\n",
       "      <td>WDD2221851A001072</td>\n",
       "      <td>urban-street</td>\n",
       "      <td>cloudy</td>\n",
       "      <td>automatic</td>\n",
       "      <td>0.64</td>\n",
       "      <td>Adverse road surface conditions</td>\n",
       "      <td>[14-Sep]</td>\n",
       "    </tr>\n",
       "    <tr>\n",
       "      <td>...</td>\n",
       "      <td>...</td>\n",
       "      <td>...</td>\n",
       "      <td>...</td>\n",
       "      <td>...</td>\n",
       "      <td>...</td>\n",
       "      <td>...</td>\n",
       "      <td>...</td>\n",
       "      <td>...</td>\n",
       "    </tr>\n",
       "    <tr>\n",
       "      <td>1019</td>\n",
       "      <td>14-Nov</td>\n",
       "      <td>WDD2221851A000495</td>\n",
       "      <td>urban-street</td>\n",
       "      <td>clear</td>\n",
       "      <td>manual</td>\n",
       "      <td>NaN</td>\n",
       "      <td>Hardware Fault</td>\n",
       "      <td>[14-Nov]</td>\n",
       "    </tr>\n",
       "    <tr>\n",
       "      <td>1020</td>\n",
       "      <td>14-Nov</td>\n",
       "      <td>WDD2221851A000495</td>\n",
       "      <td>urban-street</td>\n",
       "      <td>clear</td>\n",
       "      <td>manual</td>\n",
       "      <td>NaN</td>\n",
       "      <td>System Tuning and Calibration</td>\n",
       "      <td>[14-Nov]</td>\n",
       "    </tr>\n",
       "    <tr>\n",
       "      <td>1021</td>\n",
       "      <td>14-Nov</td>\n",
       "      <td>WDD2221851A000495</td>\n",
       "      <td>highway</td>\n",
       "      <td>clear</td>\n",
       "      <td>manual</td>\n",
       "      <td>NaN</td>\n",
       "      <td>System Tuning and Calibration</td>\n",
       "      <td>[14-Nov]</td>\n",
       "    </tr>\n",
       "    <tr>\n",
       "      <td>1022</td>\n",
       "      <td>14-Nov</td>\n",
       "      <td>WDD2221851A000495</td>\n",
       "      <td>urban-street</td>\n",
       "      <td>clear</td>\n",
       "      <td>manual</td>\n",
       "      <td>NaN</td>\n",
       "      <td>Hardware Fault</td>\n",
       "      <td>[14-Nov]</td>\n",
       "    </tr>\n",
       "    <tr>\n",
       "      <td>1023</td>\n",
       "      <td>14-Nov</td>\n",
       "      <td>WDD2221851A000495</td>\n",
       "      <td>urban-street</td>\n",
       "      <td>clear</td>\n",
       "      <td>manual</td>\n",
       "      <td>NaN</td>\n",
       "      <td>System Tuning and Calibration</td>\n",
       "      <td>[14-Nov]</td>\n",
       "    </tr>\n",
       "  </tbody>\n",
       "</table>\n",
       "<p>1024 rows × 8 columns</p>\n",
       "</div>"
      ],
      "text/plain": [
       "       Month                Car      Location Weather TypeOfTrigger  \\\n",
       "0     14-Sep  WDD2221851A001072  urban-street  cloudy     automatic   \n",
       "1     14-Sep  WDD2221851A001072  urban-street  cloudy     automatic   \n",
       "2     14-Sep  WDD2221851A001072  urban-street  cloudy     automatic   \n",
       "3     14-Sep  WDD2221851A001072  urban-street  cloudy     automatic   \n",
       "4     14-Sep  WDD2221851A001072  urban-street  cloudy     automatic   \n",
       "...      ...                ...           ...     ...           ...   \n",
       "1019  14-Nov  WDD2221851A000495  urban-street   clear        manual   \n",
       "1020  14-Nov  WDD2221851A000495  urban-street   clear        manual   \n",
       "1021  14-Nov  WDD2221851A000495       highway   clear        manual   \n",
       "1022  14-Nov  WDD2221851A000495  urban-street   clear        manual   \n",
       "1023  14-Nov  WDD2221851A000495  urban-street   clear        manual   \n",
       "\n",
       "      ReactionTime                              Cause Month_actual  \n",
       "0             0.58  Incorrect Traffic Light Detection     [14-Sep]  \n",
       "1             0.66    Adverse road surface conditions     [14-Sep]  \n",
       "2             1.93        Position Estimation Failure     [14-Sep]  \n",
       "3             0.65                  Emergency Vehicle     [14-Sep]  \n",
       "4             0.64    Adverse road surface conditions     [14-Sep]  \n",
       "...            ...                                ...          ...  \n",
       "1019           NaN                     Hardware Fault     [14-Nov]  \n",
       "1020           NaN      System Tuning and Calibration     [14-Nov]  \n",
       "1021           NaN      System Tuning and Calibration     [14-Nov]  \n",
       "1022           NaN                     Hardware Fault     [14-Nov]  \n",
       "1023           NaN      System Tuning and Calibration     [14-Nov]  \n",
       "\n",
       "[1024 rows x 8 columns]"
      ]
     },
     "execution_count": 29,
     "metadata": {},
     "output_type": "execute_result"
    }
   ],
   "source": [
    "print(dseng_df)"
   ]
  },
  {
   "cell_type": "code",
   "execution_count": 18,
   "metadata": {},
   "outputs": [
    {
     "data": {
      "text/plain": [
       "Month            1024\n",
       "Car              1024\n",
       "Location         1024\n",
       "Weather          1024\n",
       "TypeOfTrigger    1024\n",
       "ReactionTime      492\n",
       "Cause            1024\n",
       "dtype: int64"
      ]
     },
     "execution_count": 18,
     "metadata": {},
     "output_type": "execute_result"
    }
   ],
   "source": [
    "dseng_df.count()"
   ]
  },
  {
   "cell_type": "markdown",
   "metadata": {},
   "source": [
    "# 2 (a) Total number of AV disengagements: 1024"
   ]
  },
  {
   "cell_type": "code",
   "execution_count": 19,
   "metadata": {
    "scrolled": false
   },
   "outputs": [
    {
     "data": {
      "text/plain": [
       "0       [14-Sep]\n",
       "1       [14-Sep]\n",
       "2       [14-Sep]\n",
       "3       [14-Sep]\n",
       "4       [14-Sep]\n",
       "          ...   \n",
       "1019    [14-Nov]\n",
       "1020    [14-Nov]\n",
       "1021    [14-Nov]\n",
       "1022    [14-Nov]\n",
       "1023    [14-Nov]\n",
       "Name: Month, Length: 1024, dtype: object"
      ]
     },
     "execution_count": 19,
     "metadata": {},
     "output_type": "execute_result"
    }
   ],
   "source": [
    "dseng_df['Month'].apply(lambda x:x.split())"
   ]
  },
  {
   "cell_type": "code",
   "execution_count": 33,
   "metadata": {
    "scrolled": true
   },
   "outputs": [],
   "source": [
    "dseng_df['Month_actual'] = dseng_df['Month'].apply(lambda x:x.split(\"-\")[1])"
   ]
  },
  {
   "cell_type": "code",
   "execution_count": 34,
   "metadata": {},
   "outputs": [
    {
     "data": {
      "text/html": [
       "<div>\n",
       "<style scoped>\n",
       "    .dataframe tbody tr th:only-of-type {\n",
       "        vertical-align: middle;\n",
       "    }\n",
       "\n",
       "    .dataframe tbody tr th {\n",
       "        vertical-align: top;\n",
       "    }\n",
       "\n",
       "    .dataframe thead th {\n",
       "        text-align: right;\n",
       "    }\n",
       "</style>\n",
       "<table border=\"1\" class=\"dataframe\">\n",
       "  <thead>\n",
       "    <tr style=\"text-align: right;\">\n",
       "      <th></th>\n",
       "      <th>Month</th>\n",
       "      <th>Car</th>\n",
       "      <th>Location</th>\n",
       "      <th>Weather</th>\n",
       "      <th>TypeOfTrigger</th>\n",
       "      <th>ReactionTime</th>\n",
       "      <th>Cause</th>\n",
       "      <th>Month_actual</th>\n",
       "    </tr>\n",
       "  </thead>\n",
       "  <tbody>\n",
       "    <tr>\n",
       "      <td>0</td>\n",
       "      <td>14-Sep</td>\n",
       "      <td>WDD2221851A001072</td>\n",
       "      <td>urban-street</td>\n",
       "      <td>cloudy</td>\n",
       "      <td>automatic</td>\n",
       "      <td>0.58</td>\n",
       "      <td>Incorrect Traffic Light Detection</td>\n",
       "      <td>Sep</td>\n",
       "    </tr>\n",
       "    <tr>\n",
       "      <td>1</td>\n",
       "      <td>14-Sep</td>\n",
       "      <td>WDD2221851A001072</td>\n",
       "      <td>urban-street</td>\n",
       "      <td>cloudy</td>\n",
       "      <td>automatic</td>\n",
       "      <td>0.66</td>\n",
       "      <td>Adverse road surface conditions</td>\n",
       "      <td>Sep</td>\n",
       "    </tr>\n",
       "    <tr>\n",
       "      <td>2</td>\n",
       "      <td>14-Sep</td>\n",
       "      <td>WDD2221851A001072</td>\n",
       "      <td>urban-street</td>\n",
       "      <td>cloudy</td>\n",
       "      <td>automatic</td>\n",
       "      <td>1.93</td>\n",
       "      <td>Position Estimation Failure</td>\n",
       "      <td>Sep</td>\n",
       "    </tr>\n",
       "    <tr>\n",
       "      <td>3</td>\n",
       "      <td>14-Sep</td>\n",
       "      <td>WDD2221851A001072</td>\n",
       "      <td>urban-street</td>\n",
       "      <td>cloudy</td>\n",
       "      <td>automatic</td>\n",
       "      <td>0.65</td>\n",
       "      <td>Emergency Vehicle</td>\n",
       "      <td>Sep</td>\n",
       "    </tr>\n",
       "    <tr>\n",
       "      <td>4</td>\n",
       "      <td>14-Sep</td>\n",
       "      <td>WDD2221851A001072</td>\n",
       "      <td>urban-street</td>\n",
       "      <td>cloudy</td>\n",
       "      <td>automatic</td>\n",
       "      <td>0.64</td>\n",
       "      <td>Adverse road surface conditions</td>\n",
       "      <td>Sep</td>\n",
       "    </tr>\n",
       "    <tr>\n",
       "      <td>...</td>\n",
       "      <td>...</td>\n",
       "      <td>...</td>\n",
       "      <td>...</td>\n",
       "      <td>...</td>\n",
       "      <td>...</td>\n",
       "      <td>...</td>\n",
       "      <td>...</td>\n",
       "      <td>...</td>\n",
       "    </tr>\n",
       "    <tr>\n",
       "      <td>1019</td>\n",
       "      <td>14-Nov</td>\n",
       "      <td>WDD2221851A000495</td>\n",
       "      <td>urban-street</td>\n",
       "      <td>clear</td>\n",
       "      <td>manual</td>\n",
       "      <td>NaN</td>\n",
       "      <td>Hardware Fault</td>\n",
       "      <td>Nov</td>\n",
       "    </tr>\n",
       "    <tr>\n",
       "      <td>1020</td>\n",
       "      <td>14-Nov</td>\n",
       "      <td>WDD2221851A000495</td>\n",
       "      <td>urban-street</td>\n",
       "      <td>clear</td>\n",
       "      <td>manual</td>\n",
       "      <td>NaN</td>\n",
       "      <td>System Tuning and Calibration</td>\n",
       "      <td>Nov</td>\n",
       "    </tr>\n",
       "    <tr>\n",
       "      <td>1021</td>\n",
       "      <td>14-Nov</td>\n",
       "      <td>WDD2221851A000495</td>\n",
       "      <td>highway</td>\n",
       "      <td>clear</td>\n",
       "      <td>manual</td>\n",
       "      <td>NaN</td>\n",
       "      <td>System Tuning and Calibration</td>\n",
       "      <td>Nov</td>\n",
       "    </tr>\n",
       "    <tr>\n",
       "      <td>1022</td>\n",
       "      <td>14-Nov</td>\n",
       "      <td>WDD2221851A000495</td>\n",
       "      <td>urban-street</td>\n",
       "      <td>clear</td>\n",
       "      <td>manual</td>\n",
       "      <td>NaN</td>\n",
       "      <td>Hardware Fault</td>\n",
       "      <td>Nov</td>\n",
       "    </tr>\n",
       "    <tr>\n",
       "      <td>1023</td>\n",
       "      <td>14-Nov</td>\n",
       "      <td>WDD2221851A000495</td>\n",
       "      <td>urban-street</td>\n",
       "      <td>clear</td>\n",
       "      <td>manual</td>\n",
       "      <td>NaN</td>\n",
       "      <td>System Tuning and Calibration</td>\n",
       "      <td>Nov</td>\n",
       "    </tr>\n",
       "  </tbody>\n",
       "</table>\n",
       "<p>1024 rows × 8 columns</p>\n",
       "</div>"
      ],
      "text/plain": [
       "       Month                Car      Location Weather TypeOfTrigger  \\\n",
       "0     14-Sep  WDD2221851A001072  urban-street  cloudy     automatic   \n",
       "1     14-Sep  WDD2221851A001072  urban-street  cloudy     automatic   \n",
       "2     14-Sep  WDD2221851A001072  urban-street  cloudy     automatic   \n",
       "3     14-Sep  WDD2221851A001072  urban-street  cloudy     automatic   \n",
       "4     14-Sep  WDD2221851A001072  urban-street  cloudy     automatic   \n",
       "...      ...                ...           ...     ...           ...   \n",
       "1019  14-Nov  WDD2221851A000495  urban-street   clear        manual   \n",
       "1020  14-Nov  WDD2221851A000495  urban-street   clear        manual   \n",
       "1021  14-Nov  WDD2221851A000495       highway   clear        manual   \n",
       "1022  14-Nov  WDD2221851A000495  urban-street   clear        manual   \n",
       "1023  14-Nov  WDD2221851A000495  urban-street   clear        manual   \n",
       "\n",
       "      ReactionTime                              Cause Month_actual  \n",
       "0             0.58  Incorrect Traffic Light Detection          Sep  \n",
       "1             0.66    Adverse road surface conditions          Sep  \n",
       "2             1.93        Position Estimation Failure          Sep  \n",
       "3             0.65                  Emergency Vehicle          Sep  \n",
       "4             0.64    Adverse road surface conditions          Sep  \n",
       "...            ...                                ...          ...  \n",
       "1019           NaN                     Hardware Fault          Nov  \n",
       "1020           NaN      System Tuning and Calibration          Nov  \n",
       "1021           NaN      System Tuning and Calibration          Nov  \n",
       "1022           NaN                     Hardware Fault          Nov  \n",
       "1023           NaN      System Tuning and Calibration          Nov  \n",
       "\n",
       "[1024 rows x 8 columns]"
      ]
     },
     "execution_count": 34,
     "metadata": {},
     "output_type": "execute_result"
    }
   ],
   "source": [
    "dseng_df"
   ]
  },
  {
   "cell_type": "code",
   "execution_count": 43,
   "metadata": {},
   "outputs": [
    {
     "data": {
      "text/plain": [
       "array(['Sep', 'Oct', 'Nov', 'Dec', 'Jan', 'Feb', 'Mar', 'Apr', 'May',\n",
       "       'Jun', 'Jul', 'Aug'], dtype=object)"
      ]
     },
     "execution_count": 43,
     "metadata": {},
     "output_type": "execute_result"
    }
   ],
   "source": [
    "dseng_df['Month_actual'].unique()"
   ]
  },
  {
   "cell_type": "code",
   "execution_count": 42,
   "metadata": {},
   "outputs": [
    {
     "data": {
      "text/plain": [
       "12"
      ]
     },
     "execution_count": 42,
     "metadata": {},
     "output_type": "execute_result"
    }
   ],
   "source": [
    "len(dseng_df['Month_actual'].unique())"
   ]
  },
  {
   "cell_type": "markdown",
   "metadata": {},
   "source": [
    "# 2 (b) Number of unique months that have recorded AV disengagements: 12"
   ]
  },
  {
   "cell_type": "code",
   "execution_count": 45,
   "metadata": {},
   "outputs": [
    {
     "data": {
      "text/plain": [
       "array(['urban-street', 'highway'], dtype=object)"
      ]
     },
     "execution_count": 45,
     "metadata": {},
     "output_type": "execute_result"
    }
   ],
   "source": [
    "dseng_df['Location'].unique()"
   ]
  },
  {
   "cell_type": "code",
   "execution_count": 46,
   "metadata": {},
   "outputs": [
    {
     "data": {
      "text/plain": [
       "2"
      ]
     },
     "execution_count": 46,
     "metadata": {},
     "output_type": "execute_result"
    }
   ],
   "source": [
    "len(dseng_df['Location'].unique())"
   ]
  },
  {
   "cell_type": "markdown",
   "metadata": {},
   "source": [
    "# 2 (c) List of unique locations of AV disengagements: 2"
   ]
  },
  {
   "cell_type": "code",
   "execution_count": 47,
   "metadata": {},
   "outputs": [
    {
     "data": {
      "text/plain": [
       "10"
      ]
     },
     "execution_count": 47,
     "metadata": {},
     "output_type": "execute_result"
    }
   ],
   "source": [
    "len(dseng_df['Cause'].unique())"
   ]
  },
  {
   "cell_type": "markdown",
   "metadata": {},
   "source": [
    "# 2 (d) Number of unique causes for AV disengagements: 10 "
   ]
  },
  {
   "cell_type": "code",
   "execution_count": 52,
   "metadata": {},
   "outputs": [
    {
     "data": {
      "text/plain": [
       "Month              0\n",
       "Car                0\n",
       "Location           0\n",
       "Weather            0\n",
       "TypeOfTrigger      0\n",
       "ReactionTime     532\n",
       "Cause              0\n",
       "Month_actual       0\n",
       "dtype: int64"
      ]
     },
     "execution_count": 52,
     "metadata": {},
     "output_type": "execute_result"
    }
   ],
   "source": [
    "dseng_df.isnull().sum()"
   ]
  },
  {
   "cell_type": "markdown",
   "metadata": {},
   "source": [
    "# 2 (e) ReactionTime has 532 missing values"
   ]
  },
  {
   "cell_type": "code",
   "execution_count": 53,
   "metadata": {},
   "outputs": [
    {
     "data": {
      "image/png": "[encoded data removed]",
      "text/plain": [
       "<Figure size 864x576 with 1 Axes>"
      ]
     },
     "metadata": {},
     "output_type": "display_data"
    }
   ],
   "source": [
    "import matplotlib\n",
    "import matplotlib.pyplot as plt\n",
    "matplotlib.rcParams['figure.figsize'] = [12.0, 8.0]\n",
    "import matplotlib as mpl\n",
    "mpl.rcParams['font.size'] = 20.0\n",
    "\n",
    "causes = dseng_df['Cause'].value_counts()\n",
    "causes = causes[causes>10]\n",
    "patches, texts, _ = plt.pie(causes, \n",
    "        # grab labels from frame keys\n",
    "        labels=causes.keys(),\n",
    "        # some formatting\n",
    "        autopct='%.0f%%', shadow=True)\n",
    "#plt.legend(patches, labels=causes.keys(), bbox_to_anchor=(0.85,1.025),loc=\"upper left\")\n",
    "#plt.axis('equal')\n",
    "plt.show()"
   ]
  },
  {
   "cell_type": "markdown",
   "metadata": {},
   "source": [
    "# 3 The top two leading causes of disengagement: Recklessly bheaving agent and Unwanted Driver Discomfort"
   ]
  },
  {
   "cell_type": "code",
   "execution_count": null,
   "metadata": {},
   "outputs": [],
   "source": []
  }
 ],
 "metadata": {
  "kernelspec": {
   "display_name": "Python 3",
   "language": "python",
   "name": "python3"
  },
  "language_info": {
   "codemirror_mode": {
    "name": "ipython",
    "version": 3
   },
   "file_extension": ".py",
   "mimetype": "text/x-python",
   "name": "python",
   "nbconvert_exporter": "python",
   "pygments_lexer": "ipython3",
   "version": "3.7.4"
  }
 },
 "nbformat": 4,
 "nbformat_minor": 2
}
