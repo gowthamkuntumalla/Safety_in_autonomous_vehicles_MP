{
 "cells": [
  {
   "cell_type": "markdown",
   "metadata": {},
   "source": [
    " # MP1 - ECE 498:  Data Science & Analytics\n",
    " \n",
    " \n",
    " # Group members (NetIDs): \n",
    "    \n",
    " ##   Akhilesh Somani (somani4)\n",
    " ##   Gowtham Kuntumalla (gowtham4)\n",
    " ##   Manan Mehta (mananm2)"
   ]
  },
  {
   "cell_type": "code",
   "execution_count": 1,
   "metadata": {},
   "outputs": [],
   "source": [
    "import pandas as pd \n",
    "import seaborn as sns\n",
    "import numpy as np  \n",
    "from datetime import datetime\n",
    "from scipy import stats as st\n",
    "\n",
    "# to handle file imports for different OS\n",
    "import os\n",
    "from pathlib import Path "
   ]
  },
  {
   "cell_type": "code",
   "execution_count": 2,
   "metadata": {},
   "outputs": [],
   "source": [
    "folder = Path(os.getcwd())\n",
    "file1 = folder / 'mp1_av_disengagements.csv'\n",
    "file2 = folder / 'mp1_av_totalmiles.csv'\n",
    "dseng_df = pd.read_csv(file1)\n",
    "summary_month_df = pd.read_csv(file2)"
   ]
  },
  {
   "cell_type": "code",
   "execution_count": 3,
   "metadata": {},
   "outputs": [
    {
     "name": "stdout",
     "output_type": "stream",
     "text": [
      "       Month                Car      Location Weather TypeOfTrigger  \\\n",
      "0     14-Sep  WDD2221851A001072  urban-street  cloudy     automatic   \n",
      "1     14-Sep  WDD2221851A001072  urban-street  cloudy     automatic   \n",
      "2     14-Sep  WDD2221851A001072  urban-street  cloudy     automatic   \n",
      "3     14-Sep  WDD2221851A001072  urban-street  cloudy     automatic   \n",
      "4     14-Sep  WDD2221851A001072  urban-street  cloudy     automatic   \n",
      "...      ...                ...           ...     ...           ...   \n",
      "1019  14-Nov  WDD2221851A000495  urban-street   clear        manual   \n",
      "1020  14-Nov  WDD2221851A000495  urban-street   clear        manual   \n",
      "1021  14-Nov  WDD2221851A000495       highway   clear        manual   \n",
      "1022  14-Nov  WDD2221851A000495  urban-street   clear        manual   \n",
      "1023  14-Nov  WDD2221851A000495  urban-street   clear        manual   \n",
      "\n",
      "      ReactionTime                              Cause  \n",
      "0             0.58  Incorrect Traffic Light Detection  \n",
      "1             0.66    Adverse road surface conditions  \n",
      "2             1.93        Position Estimation Failure  \n",
      "3             0.65                  Emergency Vehicle  \n",
      "4             0.64    Adverse road surface conditions  \n",
      "...            ...                                ...  \n",
      "1019           NaN                     Hardware Fault  \n",
      "1020           NaN      System Tuning and Calibration  \n",
      "1021           NaN      System Tuning and Calibration  \n",
      "1022           NaN                     Hardware Fault  \n",
      "1023           NaN      System Tuning and Calibration  \n",
      "\n",
      "[1024 rows x 7 columns]\n"
     ]
    }
   ],
   "source": [
    "print(dseng_df)"
   ]
  },
  {
   "cell_type": "code",
   "execution_count": 4,
   "metadata": {},
   "outputs": [
    {
     "data": {
      "text/plain": [
       "Month            1024\n",
       "Car              1024\n",
       "Location         1024\n",
       "Weather          1024\n",
       "TypeOfTrigger    1024\n",
       "ReactionTime      492\n",
       "Cause            1024\n",
       "dtype: int64"
      ]
     },
     "execution_count": 4,
     "metadata": {},
     "output_type": "execute_result"
    }
   ],
   "source": [
    "dseng_df.count()"
   ]
  },
  {
   "cell_type": "markdown",
   "metadata": {},
   "source": [
    "# 2 (a) Total number of AV disengagements: 1024"
   ]
  },
  {
   "cell_type": "code",
   "execution_count": 5,
   "metadata": {
    "scrolled": false
   },
   "outputs": [
    {
     "data": {
      "text/plain": [
       "0       [14-Sep]\n",
       "1       [14-Sep]\n",
       "2       [14-Sep]\n",
       "3       [14-Sep]\n",
       "4       [14-Sep]\n",
       "          ...   \n",
       "1019    [14-Nov]\n",
       "1020    [14-Nov]\n",
       "1021    [14-Nov]\n",
       "1022    [14-Nov]\n",
       "1023    [14-Nov]\n",
       "Name: Month, Length: 1024, dtype: object"
      ]
     },
     "execution_count": 5,
     "metadata": {},
     "output_type": "execute_result"
    }
   ],
   "source": [
    "dseng_df['Month'].apply(lambda x:x.split())"
   ]
  },
  {
   "cell_type": "code",
   "execution_count": 6,
   "metadata": {
    "scrolled": true
   },
   "outputs": [],
   "source": [
    "dseng_df['Month_actual'] = dseng_df['Month'].apply(lambda x:x.split(\"-\")[1])"
   ]
  },
  {
   "cell_type": "code",
   "execution_count": 7,
   "metadata": {},
   "outputs": [
    {
     "data": {
      "text/html": [
       "<div>\n",
       "<style scoped>\n",
       "    .dataframe tbody tr th:only-of-type {\n",
       "        vertical-align: middle;\n",
       "    }\n",
       "\n",
       "    .dataframe tbody tr th {\n",
       "        vertical-align: top;\n",
       "    }\n",
       "\n",
       "    .dataframe thead th {\n",
       "        text-align: right;\n",
       "    }\n",
       "</style>\n",
       "<table border=\"1\" class=\"dataframe\">\n",
       "  <thead>\n",
       "    <tr style=\"text-align: right;\">\n",
       "      <th></th>\n",
       "      <th>Month</th>\n",
       "      <th>Car</th>\n",
       "      <th>Location</th>\n",
       "      <th>Weather</th>\n",
       "      <th>TypeOfTrigger</th>\n",
       "      <th>ReactionTime</th>\n",
       "      <th>Cause</th>\n",
       "      <th>Month_actual</th>\n",
       "    </tr>\n",
       "  </thead>\n",
       "  <tbody>\n",
       "    <tr>\n",
       "      <td>0</td>\n",
       "      <td>14-Sep</td>\n",
       "      <td>WDD2221851A001072</td>\n",
       "      <td>urban-street</td>\n",
       "      <td>cloudy</td>\n",
       "      <td>automatic</td>\n",
       "      <td>0.58</td>\n",
       "      <td>Incorrect Traffic Light Detection</td>\n",
       "      <td>Sep</td>\n",
       "    </tr>\n",
       "    <tr>\n",
       "      <td>1</td>\n",
       "      <td>14-Sep</td>\n",
       "      <td>WDD2221851A001072</td>\n",
       "      <td>urban-street</td>\n",
       "      <td>cloudy</td>\n",
       "      <td>automatic</td>\n",
       "      <td>0.66</td>\n",
       "      <td>Adverse road surface conditions</td>\n",
       "      <td>Sep</td>\n",
       "    </tr>\n",
       "    <tr>\n",
       "      <td>2</td>\n",
       "      <td>14-Sep</td>\n",
       "      <td>WDD2221851A001072</td>\n",
       "      <td>urban-street</td>\n",
       "      <td>cloudy</td>\n",
       "      <td>automatic</td>\n",
       "      <td>1.93</td>\n",
       "      <td>Position Estimation Failure</td>\n",
       "      <td>Sep</td>\n",
       "    </tr>\n",
       "    <tr>\n",
       "      <td>3</td>\n",
       "      <td>14-Sep</td>\n",
       "      <td>WDD2221851A001072</td>\n",
       "      <td>urban-street</td>\n",
       "      <td>cloudy</td>\n",
       "      <td>automatic</td>\n",
       "      <td>0.65</td>\n",
       "      <td>Emergency Vehicle</td>\n",
       "      <td>Sep</td>\n",
       "    </tr>\n",
       "    <tr>\n",
       "      <td>4</td>\n",
       "      <td>14-Sep</td>\n",
       "      <td>WDD2221851A001072</td>\n",
       "      <td>urban-street</td>\n",
       "      <td>cloudy</td>\n",
       "      <td>automatic</td>\n",
       "      <td>0.64</td>\n",
       "      <td>Adverse road surface conditions</td>\n",
       "      <td>Sep</td>\n",
       "    </tr>\n",
       "    <tr>\n",
       "      <td>...</td>\n",
       "      <td>...</td>\n",
       "      <td>...</td>\n",
       "      <td>...</td>\n",
       "      <td>...</td>\n",
       "      <td>...</td>\n",
       "      <td>...</td>\n",
       "      <td>...</td>\n",
       "      <td>...</td>\n",
       "    </tr>\n",
       "    <tr>\n",
       "      <td>1019</td>\n",
       "      <td>14-Nov</td>\n",
       "      <td>WDD2221851A000495</td>\n",
       "      <td>urban-street</td>\n",
       "      <td>clear</td>\n",
       "      <td>manual</td>\n",
       "      <td>NaN</td>\n",
       "      <td>Hardware Fault</td>\n",
       "      <td>Nov</td>\n",
       "    </tr>\n",
       "    <tr>\n",
       "      <td>1020</td>\n",
       "      <td>14-Nov</td>\n",
       "      <td>WDD2221851A000495</td>\n",
       "      <td>urban-street</td>\n",
       "      <td>clear</td>\n",
       "      <td>manual</td>\n",
       "      <td>NaN</td>\n",
       "      <td>System Tuning and Calibration</td>\n",
       "      <td>Nov</td>\n",
       "    </tr>\n",
       "    <tr>\n",
       "      <td>1021</td>\n",
       "      <td>14-Nov</td>\n",
       "      <td>WDD2221851A000495</td>\n",
       "      <td>highway</td>\n",
       "      <td>clear</td>\n",
       "      <td>manual</td>\n",
       "      <td>NaN</td>\n",
       "      <td>System Tuning and Calibration</td>\n",
       "      <td>Nov</td>\n",
       "    </tr>\n",
       "    <tr>\n",
       "      <td>1022</td>\n",
       "      <td>14-Nov</td>\n",
       "      <td>WDD2221851A000495</td>\n",
       "      <td>urban-street</td>\n",
       "      <td>clear</td>\n",
       "      <td>manual</td>\n",
       "      <td>NaN</td>\n",
       "      <td>Hardware Fault</td>\n",
       "      <td>Nov</td>\n",
       "    </tr>\n",
       "    <tr>\n",
       "      <td>1023</td>\n",
       "      <td>14-Nov</td>\n",
       "      <td>WDD2221851A000495</td>\n",
       "      <td>urban-street</td>\n",
       "      <td>clear</td>\n",
       "      <td>manual</td>\n",
       "      <td>NaN</td>\n",
       "      <td>System Tuning and Calibration</td>\n",
       "      <td>Nov</td>\n",
       "    </tr>\n",
       "  </tbody>\n",
       "</table>\n",
       "<p>1024 rows × 8 columns</p>\n",
       "</div>"
      ],
      "text/plain": [
       "       Month                Car      Location Weather TypeOfTrigger  \\\n",
       "0     14-Sep  WDD2221851A001072  urban-street  cloudy     automatic   \n",
       "1     14-Sep  WDD2221851A001072  urban-street  cloudy     automatic   \n",
       "2     14-Sep  WDD2221851A001072  urban-street  cloudy     automatic   \n",
       "3     14-Sep  WDD2221851A001072  urban-street  cloudy     automatic   \n",
       "4     14-Sep  WDD2221851A001072  urban-street  cloudy     automatic   \n",
       "...      ...                ...           ...     ...           ...   \n",
       "1019  14-Nov  WDD2221851A000495  urban-street   clear        manual   \n",
       "1020  14-Nov  WDD2221851A000495  urban-street   clear        manual   \n",
       "1021  14-Nov  WDD2221851A000495       highway   clear        manual   \n",
       "1022  14-Nov  WDD2221851A000495  urban-street   clear        manual   \n",
       "1023  14-Nov  WDD2221851A000495  urban-street   clear        manual   \n",
       "\n",
       "      ReactionTime                              Cause Month_actual  \n",
       "0             0.58  Incorrect Traffic Light Detection          Sep  \n",
       "1             0.66    Adverse road surface conditions          Sep  \n",
       "2             1.93        Position Estimation Failure          Sep  \n",
       "3             0.65                  Emergency Vehicle          Sep  \n",
       "4             0.64    Adverse road surface conditions          Sep  \n",
       "...            ...                                ...          ...  \n",
       "1019           NaN                     Hardware Fault          Nov  \n",
       "1020           NaN      System Tuning and Calibration          Nov  \n",
       "1021           NaN      System Tuning and Calibration          Nov  \n",
       "1022           NaN                     Hardware Fault          Nov  \n",
       "1023           NaN      System Tuning and Calibration          Nov  \n",
       "\n",
       "[1024 rows x 8 columns]"
      ]
     },
     "execution_count": 7,
     "metadata": {},
     "output_type": "execute_result"
    }
   ],
   "source": [
    "dseng_df"
   ]
  },
  {
   "cell_type": "code",
   "execution_count": 8,
   "metadata": {},
   "outputs": [
    {
     "data": {
      "text/plain": [
       "array(['Sep', 'Oct', 'Nov', 'Dec', 'Jan', 'Feb', 'Mar', 'Apr', 'May',\n",
       "       'Jun', 'Jul', 'Aug'], dtype=object)"
      ]
     },
     "execution_count": 8,
     "metadata": {},
     "output_type": "execute_result"
    }
   ],
   "source": [
    "dseng_df['Month_actual'].unique()"
   ]
  },
  {
   "cell_type": "code",
   "execution_count": 9,
   "metadata": {},
   "outputs": [
    {
     "data": {
      "text/plain": [
       "12"
      ]
     },
     "execution_count": 9,
     "metadata": {},
     "output_type": "execute_result"
    }
   ],
   "source": [
    "len(dseng_df['Month_actual'].unique())"
   ]
  },
  {
   "cell_type": "markdown",
   "metadata": {},
   "source": [
    "# 2 (b) Number of unique months that have recorded AV disengagements: 12"
   ]
  },
  {
   "cell_type": "code",
   "execution_count": 10,
   "metadata": {},
   "outputs": [
    {
     "data": {
      "text/plain": [
       "array(['urban-street', 'highway'], dtype=object)"
      ]
     },
     "execution_count": 10,
     "metadata": {},
     "output_type": "execute_result"
    }
   ],
   "source": [
    "dseng_df['Location'].unique()"
   ]
  },
  {
   "cell_type": "code",
   "execution_count": 11,
   "metadata": {},
   "outputs": [
    {
     "data": {
      "text/plain": [
       "2"
      ]
     },
     "execution_count": 11,
     "metadata": {},
     "output_type": "execute_result"
    }
   ],
   "source": [
    "len(dseng_df['Location'].unique())"
   ]
  },
  {
   "cell_type": "markdown",
   "metadata": {},
   "source": [
    "# 2 (c) List of unique locations of AV disengagements: 2"
   ]
  },
  {
   "cell_type": "code",
   "execution_count": 12,
   "metadata": {},
   "outputs": [
    {
     "data": {
      "text/plain": [
       "10"
      ]
     },
     "execution_count": 12,
     "metadata": {},
     "output_type": "execute_result"
    }
   ],
   "source": [
    "len(dseng_df['Cause'].unique())"
   ]
  },
  {
   "cell_type": "markdown",
   "metadata": {},
   "source": [
    "# 2 (d) Number of unique causes for AV disengagements: 10 "
   ]
  },
  {
   "cell_type": "code",
   "execution_count": 13,
   "metadata": {},
   "outputs": [
    {
     "data": {
      "text/plain": [
       "Month              0\n",
       "Car                0\n",
       "Location           0\n",
       "Weather            0\n",
       "TypeOfTrigger      0\n",
       "ReactionTime     532\n",
       "Cause              0\n",
       "Month_actual       0\n",
       "dtype: int64"
      ]
     },
     "execution_count": 13,
     "metadata": {},
     "output_type": "execute_result"
    }
   ],
   "source": [
    "dseng_df.isnull().sum()"
   ]
  },
  {
   "cell_type": "markdown",
   "metadata": {},
   "source": [
    "# 2 (e) ReactionTime has 532 missing values"
   ]
  },
  {
   "cell_type": "code",
   "execution_count": 14,
   "metadata": {},
   "outputs": [
    {
     "data": {
      "image/png": "[encoded data removed]",
      "text/plain": [
       "<Figure size 864x576 with 1 Axes>"
      ]
     },
     "metadata": {},
     "output_type": "display_data"
    }
   ],
   "source": [
    "import matplotlib\n",
    "import matplotlib.pyplot as plt\n",
    "matplotlib.rcParams['figure.figsize'] = [12.0, 8.0]\n",
    "import matplotlib as mpl\n",
    "mpl.rcParams['font.size'] = 20.0\n",
    "\n",
    "causes = dseng_df['Cause'].value_counts()\n",
    "causes = causes[causes>10]\n",
    "patches, texts, _ = plt.pie(causes, \n",
    "        # grab labels from frame keys\n",
    "        labels=causes.keys(),\n",
    "        # some formatting\n",
    "        autopct='%.2f%%', shadow=True)\n",
    "#plt.legend(patches, labels=causes.keys(), bbox_to_anchor=(0.85,1.025),loc=\"upper left\")\n",
    "#plt.axis('equal')\n",
    "plt.show()"
   ]
  },
  {
   "cell_type": "markdown",
   "metadata": {},
   "source": [
    "# 3 The top two leading causes of disengagement: Recklessly bheaving agent and Unwanted Driver Discomfort"
   ]
  },
  {
   "cell_type": "code",
   "execution_count": null,
   "metadata": {},
   "outputs": [],
   "source": []
  }
 ],
 "metadata": {
  "kernelspec": {
   "display_name": "Python 3",
   "language": "python",
   "name": "python3"
  },
  "language_info": {
   "codemirror_mode": {
    "name": "ipython",
    "version": 3
   },
   "file_extension": ".py",
   "mimetype": "text/x-python",
   "name": "python",
   "nbconvert_exporter": "python",
   "pygments_lexer": "ipython3",
   "version": "3.7.4"
  }
 },
 "nbformat": 4,
 "nbformat_minor": 2
}
